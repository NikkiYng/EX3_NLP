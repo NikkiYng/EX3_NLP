{
  "cells": [
    {
      "cell_type": "markdown",
      "metadata": {
        "id": "view-in-github",
        "colab_type": "text"
      },
      "source": [
        "<a href=\"https://colab.research.google.com/github/NikkiYng/EX3_NLP/blob/main/Cityname_generator_Tensorflow_RNN_model.ipynb\" target=\"_parent\"><img src=\"https://colab.research.google.com/assets/colab-badge.svg\" alt=\"Open In Colab\"/></a>"
      ]
    },
    {
      "cell_type": "markdown",
      "metadata": {
        "id": "xMKZ2op-8__1"
      },
      "source": [
        "# City Name Generation using RNN\n",
        "Generate latin script and non-latin script names using a GRU network."
      ]
    },
    {
      "cell_type": "code",
      "execution_count": null,
      "metadata": {
        "id": "cM5QcVU39HMX"
      },
      "outputs": [],
      "source": [
        "import tensorflow as tf\n",
        "from numpy.random import shuffle\n",
        "import numpy as np\n",
        "import matplotlib.pyplot as plt\n",
        "import pandas as pd\n",
        "\n",
        "from IPython.display import clear_output\n",
        "import random\n",
        "from random import sample\n",
        "import pickle\n",
        "import sys\n",
        "\n",
        "from keras.layers import Embedding, Dense, Concatenate\n",
        "import keras\n",
        "import keras.layers as L\n",
        "from keras.utils import to_categorical\n",
        "from keras.callbacks import LambdaCallback, ModelCheckpoint\n",
        "from keras.models import Sequential, load_model"
      ]
    },
    {
      "cell_type": "markdown",
      "metadata": {
        "id": "e4yxpDtx9tq7"
      },
      "source": [
        "\n",
        "##  Data prepration"
      ]
    },
    {
      "cell_type": "markdown",
      "source": [
        "**1. Download data**"
      ],
      "metadata": {
        "id": "_xeVZL_6uZ4o"
      }
    },
    {
      "cell_type": "code",
      "source": [
        "# Download csv files\n",
        "!wget https://raw.githubusercontent.com/NikkiYng/EX3_NLP/main/china_cities.csv\n",
        "cncities = pd.read_csv(\"china_cities.csv\")\n",
        "print(cncities[:5])\n",
        "\n",
        "!wget https://raw.githubusercontent.com/NikkiYng/EX3_NLP/main/uscities.csv\n",
        "uscities = pd.read_csv(\"uscities.csv\")\n",
        "print(uscities[:5])"
      ],
      "metadata": {
        "colab": {
          "base_uri": "https://localhost:8080/"
        },
        "id": "8OxdCIWvRpC8",
        "outputId": "2284417a-9dcc-4782-8669-17bb529d9191"
      },
      "execution_count": null,
      "outputs": [
        {
          "output_type": "stream",
          "name": "stdout",
          "text": [
            "--2024-03-31 18:08:43--  https://raw.githubusercontent.com/NikkiYng/EX3_NLP/main/china_cities.csv\n",
            "Resolving raw.githubusercontent.com (raw.githubusercontent.com)... 185.199.111.133, 185.199.108.133, 185.199.110.133, ...\n",
            "Connecting to raw.githubusercontent.com (raw.githubusercontent.com)|185.199.111.133|:443... connected.\n",
            "HTTP request sent, awaiting response... 200 OK\n",
            "Length: 300500 (293K) [text/plain]\n",
            "Saving to: ‘china_cities.csv’\n",
            "\n",
            "china_cities.csv    100%[===================>] 293.46K  --.-KB/s    in 0.01s   \n",
            "\n",
            "2024-03-31 18:08:44 (25.0 MB/s) - ‘china_cities.csv’ saved [300500/300500]\n",
            "\n",
            "       城市/地区编码        英文  中文 国家代码   国家英文 国家中文      省英文 省中文  所属上级市英文 所属上级市中文  \\\n",
            "0  CN101010100   beijing  北京   CN  China   中国  beijing  北京  beijing      北京   \n",
            "1  CN101010200   haidian  海淀   CN  China   中国  beijing  北京  beijing      北京   \n",
            "2  CN101010300  chaoyang  朝阳   CN  China   中国  beijing  北京  beijing      北京   \n",
            "3  CN101010400    shunyi  顺义   CN  China   中国  beijing  北京  beijing      北京   \n",
            "4  CN101010500   huairou  怀柔   CN  China   中国  beijing  北京  beijing      北京   \n",
            "\n",
            "          纬度          经度  \n",
            "0  39.904989  116.405285  \n",
            "1  39.956074  116.310316  \n",
            "2  39.921489  116.486409  \n",
            "3  40.128936  116.653525  \n",
            "4  40.324272  116.637122  \n",
            "--2024-03-31 18:08:44--  https://raw.githubusercontent.com/NikkiYng/EX3_NLP/main/uscities.csv\n",
            "Resolving raw.githubusercontent.com (raw.githubusercontent.com)... 185.199.111.133, 185.199.109.133, 185.199.108.133, ...\n",
            "Connecting to raw.githubusercontent.com (raw.githubusercontent.com)|185.199.111.133|:443... connected.\n",
            "HTTP request sent, awaiting response... 200 OK\n",
            "Length: 4703918 (4.5M) [text/plain]\n",
            "Saving to: ‘uscities.csv’\n",
            "\n",
            "uscities.csv        100%[===================>]   4.49M  --.-KB/s    in 0.03s   \n",
            "\n",
            "2024-03-31 18:08:44 (136 MB/s) - ‘uscities.csv’ saved [4703918/4703918]\n",
            "\n",
            "          city   city_ascii state_id  state_name  county_fips  county_name  \\\n",
            "0     New York     New York       NY    New York        36061     New York   \n",
            "1  Los Angeles  Los Angeles       CA  California         6037  Los Angeles   \n",
            "2      Chicago      Chicago       IL    Illinois        17031         Cook   \n",
            "3        Miami        Miami       FL     Florida        12086   Miami-Dade   \n",
            "4       Dallas       Dallas       TX       Texas        48113       Dallas   \n",
            "\n",
            "       lat       lng  population  density   source  military  incorporated  \\\n",
            "0  40.6943  -73.9249    18713220    10715  polygon     False          True   \n",
            "1  34.1139 -118.4068    12750807     3276  polygon     False          True   \n",
            "2  41.8373  -87.6862     8604203     4574  polygon     False          True   \n",
            "3  25.7839  -80.2102     6445545     5019  polygon     False          True   \n",
            "4  32.7936  -96.7662     5743938     1526  polygon     False          True   \n",
            "\n",
            "              timezone  ranking  \\\n",
            "0     America/New_York        1   \n",
            "1  America/Los_Angeles        1   \n",
            "2      America/Chicago        1   \n",
            "3     America/New_York        1   \n",
            "4      America/Chicago        1   \n",
            "\n",
            "                                                zips          id  \n",
            "0  11229 11226 11225 11224 11222 11221 11220 1138...  1840034016  \n",
            "1  90291 90293 90292 91316 91311 90037 90031 9000...  1840020491  \n",
            "2  60018 60649 60641 60640 60643 60642 60645 6064...  1840000494  \n",
            "3  33129 33125 33126 33127 33128 33149 33144 3314...  1840015149  \n",
            "4  75287 75098 75233 75254 75251 75252 75253 7503...  1840019440  \n"
          ]
        }
      ]
    },
    {
      "cell_type": "markdown",
      "source": [
        "**2. Data Cleaning**"
      ],
      "metadata": {
        "id": "PaAvvnV5SrUE"
      }
    },
    {
      "cell_type": "code",
      "source": [
        "# Chinese City Names\n",
        "cncities = cncities['中文'].drop_duplicates() # only keep the column with city names\n",
        "\n",
        "# From csv to txt\n",
        "file_name = 'cn.txt' # switch from csv to txt\n",
        "with open(file_name, 'w') as file:\n",
        "    for item in cncities:\n",
        "        file.write(str(item) + '\\n')\n",
        "\n",
        "# Convert to numpy array\n",
        "def load_data(filename):\n",
        "    with open(filename, 'r') as f:\n",
        "        data = f.read().lower().split('\\n')\n",
        "    return np.array(data)\n",
        "\n",
        "\n",
        "cncities = load_data('cn.txt')\n",
        "print(\"examples:\", cncities)\n",
        "print(type(cncities))\n",
        "print(\"number:\",len(cncities))"
      ],
      "metadata": {
        "colab": {
          "base_uri": "https://localhost:8080/"
        },
        "id": "VmkUD-zMtTmh",
        "outputId": "776890a1-454d-4094-b9ab-3a1fd611dd4c"
      },
      "execution_count": null,
      "outputs": [
        {
          "output_type": "stream",
          "name": "stdout",
          "text": [
            "examples: ['北京' '海淀' '朝阳' ... '花莲' '云林' '']\n",
            "<class 'numpy.ndarray'>\n",
            "number: 3094\n"
          ]
        }
      ]
    },
    {
      "cell_type": "code",
      "source": [
        "# American City Names\n",
        "\n",
        "# Clean up some of the special characters\n",
        "def replace_special_chars(char):\n",
        "    replace = {',': '', '1': '', '2': '', '5': '', '6': '', '7': '', 'á': 'a', 'é': 'e', 'í': 'i', 'ñ': 'n', 'ó': 'o', 'ú': 'u', 'ü': 'u'}\n",
        "    return replace[char] if char in replace else char\n",
        "\n",
        "uscities = uscities['city'].map(lambda word: ''.join([replace_special_chars(char) for char in word]))\n",
        "\n",
        "uscities = uscities.drop_duplicates()[:3093] # match the number of the cncities\n",
        "\n",
        "# Switch from csv to txt\n",
        "file_name2 = 'us.txt'\n",
        "with open(file_name2, 'w') as file:\n",
        "    for item in uscities:\n",
        "        file.write(str(item) + '\\n')\n",
        "\n",
        "uscities = load_data('us.txt')\n",
        "print(\"examples:\", uscities)\n",
        "print(type(uscities))\n",
        "print(\"number:\",len(uscities))"
      ],
      "metadata": {
        "colab": {
          "base_uri": "https://localhost:8080/"
        },
        "id": "lO-E7-3GaSeG",
        "outputId": "1100b258-91c9-43c1-bac6-89d46a10fec9"
      },
      "execution_count": null,
      "outputs": [
        {
          "output_type": "stream",
          "name": "stdout",
          "text": [
            "examples: ['new york' 'los angeles' 'chicago' ... 'minden' 'grantsville' '']\n",
            "<class 'numpy.ndarray'>\n",
            "number: 3094\n"
          ]
        }
      ]
    },
    {
      "cell_type": "markdown",
      "metadata": {
        "id": "yXZwdCE-c19D"
      },
      "source": [
        "**3. Spliting dataset**"
      ]
    },
    {
      "cell_type": "code",
      "execution_count": null,
      "metadata": {
        "id": "MVtv_zQ7cz9M",
        "colab": {
          "base_uri": "https://localhost:8080/"
        },
        "outputId": "20289333-f5b0-4285-f9ec-85775fdc8f7c"
      },
      "outputs": [
        {
          "output_type": "stream",
          "name": "stdout",
          "text": [
            "cn data:\n",
            "2475\n",
            "309\n",
            "310\n",
            "\n",
            "us data:\n",
            "2475\n",
            "309\n",
            "310\n"
          ]
        }
      ],
      "source": [
        "# CN: prepare the data splits: training, validation, testing\n",
        "random.seed(42)\n",
        "random.shuffle(cncities)\n",
        "n3 = int(0.8*len(cncities))\n",
        "n4 = int(0.9*len(cncities))\n",
        "\n",
        "cn_train = cncities[:n3]\n",
        "cn_val = cncities[n3:n4]\n",
        "cn_test = cncities[n4:]\n",
        "\n",
        "print(\"cn data:\")\n",
        "print(len(cn_train))\n",
        "print(len(cn_val))\n",
        "print(len(cn_test))\n",
        "print(\"\")\n",
        "# US: prepare the data splits: training, validation, testing\n",
        "random.seed(42)\n",
        "random.shuffle(uscities)\n",
        "n1 = int(0.8*len(uscities))\n",
        "n2 = int(0.9*len(uscities))\n",
        "\n",
        "us_train = uscities[:n1]\n",
        "us_val = uscities[n1:n2]\n",
        "us_test = uscities[n2:]\n",
        "\n",
        "print(\"us data:\")\n",
        "print(len(us_train))\n",
        "print(len(us_val))\n",
        "print(len(us_test))"
      ]
    },
    {
      "cell_type": "markdown",
      "metadata": {
        "id": "BzX9VyBzTw4P"
      },
      "source": [
        "## Text Processing\n",
        "**1. Create a vocabulary dictionary**"
      ]
    },
    {
      "cell_type": "code",
      "execution_count": null,
      "metadata": {
        "id": "dHXpk2zuTfei",
        "colab": {
          "base_uri": "https://localhost:8080/"
        },
        "outputId": "942dce2d-16b3-4af8-fdfd-634d3ee9daf8"
      },
      "outputs": [
        {
          "output_type": "stream",
          "name": "stdout",
          "text": [
            "Chinese city names\n",
            "['#', '圩', '萝', '郊', '猇', '邳', '楚', '芷', '浩', '化', '惠', '班', '得', '真', '贝', '政', '环', '琼', '弥', '蒗', '音', '邡', '云', '贞', '金', '社', '魏', '瓦', '钓', '叙', '锋', '扬', '石', '阆', '涡', '零', '潮', '旌', '伽', '霞', '顺', '舟', '小', '孙', '将', '瑞', '广', '晋', '清', '碑', '伯', '鲁', '庄', '钦', '禹', '洛', '蓥', '祝', '澧', '逊', '韶', '斯', '端', '濮', '峻', '觉', '芒', '年', '资', '郁', '仔', '坻', '齐', '集', '汨', '布', '离', '歙', '遵', '足', '册', '乳', '碧', '巴', '忻', '荫', '恭', '点', '明', '月', '东', '迎', '孟', '精', '枝', '勐', '圳', '邗', '山', '衢', '棣', '嫩', '后', '保', '留', '芗', '洋', '崃', '峄', '沁', '特', '简', '附', '雍', '邱', '涉', '繁', '门', '敦', '爱', '名', '扎', '贤', '启', '项', '磁', '野', '坂', '盂', '仆', '朐', '乃', '宛', '乐', '青', '八', '革', '左', '勉', '行', '信', '蔡', '鼎', '曙', '汤', '麓', '邺', '洪', '莒', '晏', '郑', '浏', '带', '瓯', '赵', '票', '凭', '阁', '穆', '澳', '七', '容', '婺', '王', '水', '师', '尔', '岭', '壤', '屿', '铜', '管', '妃', '迈', '相', '綦', '郾', '富', '芦', '鹤', '立', '千', '缙', '鄄', '福', '江', '扶', '等', '巨', '宕', '始', '鸠', '浑', '厢', '察', '邵', '拜', '李', '冈', '谱', '文', '鲅', '闻', '浮', '盟', '钢', '陈', '酒', '主', '源', '枣', '岑', '且', '井', '力', '邛', '舆', '磐', '两', '手', '罘', '果', '芙', '犁', '嘎', '冕', '辉', '瑶', '共', '川', '浦', '万', '桑', '岚', '益', '峒', '日', '砀', '峡', '宇', '汶', '蓝', '瓮', '岩', '蔺', '子', '曲', '投', '汇', '棉', '梦', '戈', '列', '熟', '六', '感', '响', '积', '版', '圈', '曼', '鄱', '兵', '延', '锦', '仪', '氏', '修', '埠', '节', '碌', '邻', '慈', '友', '类', '确', '范', '浠', '旅', '循', '稻', '好', '麦', '羌', '峪', '皋', '漳', '达', '鄢', '法', '诸', '枞', '筠', '潭', '庐', '郏', '辛', '中', '鞍', '结', '浔', '稷', '个', '玛', '屏', '许', '尧', '昌', '承', '敏', '芜', '焉', '雁', '叶', '眉', '桓', '噶', '亨', '浪', '杂', '开', '坛', '冠', '芝', '丛', '卧', '墅', '至', '泊', '渝', '巧', '穴', '于', '囊', '尾', '蜀', '袁', '恰', '克', '任', '里', '佛', '湘', '茅', '寿', '渑', '招', '细', '蠡', '槐', '作', '沽', '陟', '滴', '右', '色', '昔', '街', '村', '怀', '电', '彝', '辽', '池', '虹', '风', '矿', '滑', '区', '连', '林', '栗', '寨', '密', '醴', '业', '下', '崇', '绍', '安', '狮', '犹', '心', '自', '浉', '苏', '阜', '蒲', '吕', '潘', '竹', '古', '香', '可', '竞', '汕', '揭', '柔', '酉', '萨', '禅', '树', '汉', '桐', '砚', '沙', '呼', '棱', '栾', '灵', '场', '遂', '府', '那', '汀', '阿', '利', '正', '岷', '崆', '放', '罗', '辰', '米', '隰', '合', '沿', '园', '纳', '泉', '美', '深', '德', '润', '休', '郭', '茶', '召', '磴', '华', '京', '港', '架', '郎', '织', '赤', '潍', '高', '柯', '乾', '宽', '无', '芮', '镶', '庆', '郓', '央', '郯', '仲', '成', '琅', '瀍', '萍', '睢', '柘', '涞', '故', '市', '沃', '嘴', '钟', '碚', '略', '萧', '围', '图', '鄞', '岱', '间', '苍', '博', '强', '习', '厦', '游', '牛', '恒', '阡', '廉', '象', '莆', '三', '坝', '湛', '向', '海', '干', '奎', '玄', '疏', '绩', '诏', '陀', '凯', '四', '仓', '灞', '沂', '陵', '涿', '互', '曾', '调', '船', '灯', '梁', '洞', '隅', '朗', '淖', '儋', '宁', '渠', '洲', '获', '谯', '裕', '未', '谦', '羊', '炎', '湄', '提', '邑', '寒', '禾', '官', '宾', '闸', '冷', '城', '义', '琊', '越', '涪', '莘', '称', '樟', '蕉', '峨', '攀', '札', '工', '路', '郫', '霄', '二', '赣', '翁', '喇', '仁', '儿', '焦', '抚', '迦', '雄', '苗', '迁', '突', '礼', '陆', '草', '康', '皮', '岳', '夷', '斗', '隆', '依', '良', '珠', '莱', '奇', '郧', '复', '审', '黎', '瓜', '驻', '回', '迪', '宗', '包', '宏', '嘉', '寻', '诺', '沅', '度', '澄', '梨', '兖', '即', '胜', '吐', '馆', '格', '暨', '柏', '靖', '交', '凉', '饶', '准', '喜', '耀', '极', '夏', '尚', '哈', '彩', '夹', '堰', '眙', '耒', '秭', '堡', '令', '龙', '播', '浈', '策', '民', '迭', '措', '历', '善', '岢', '务', '老', '句', '丁', '淇', '口', '沧', '征', '秉', '掇', '从', '伦', '岔', '虎', '冲', '喀', '绛', '久', '彰', '和', '陕', '封', '垦', '番', '望', '姑', '来', '驿', '黑', '梧', '腾', '杨', '上', '丹', '指', '樊', '濞', '恩', '卡', '禺', '登', '峦', '大', '茫', '余', '宜', '都', '谟', '匀', '鲤', '吾', '濉', '邓', '壶', '翠', '南', '潢', '松', '普', '易', '步', '莲', '梓', '要', '道', '雷', '涯', '奉', '同', '梅', '垣', '界', '荥', '丽', '波', '沟', '漯', '站', '塔', '滋', '献', '县', '阎', '蒙', '漠', '柞', '五', '淞', '外', '独', '伊', '前', '徽', '颍', '肇', '们', '岐', '蓬', '伍', '蕴', '潼', '怒', '若', '汝', '绿', '咸', '春', '卫', '潜', '勤', '坪', '泰', '铁', '鸭', '谊', '讷', '甸', '考', '庵', '舞', '随', '尖', '郸', '息', '渭', '楞', '奈', '佳', '柳', '泌', '阴', '流', '权', '朝', '皇', '载', '杜', '印', '起', '亚', '氹', '汾', '蚌', '岫', '亳', '刀', '淮', '楼', '充', '柴', '家', '禄', '经', '错', '泗', '关', '威', '碱', '照', '湟', '凰', '珙', '宝', '郴', '薛', '杏', '硚', '黄', '玉', '豫', '查', '坊', '栖', '嵊', '部', '敖', '多', '顶', '塞', '公', '济', '贵', '崂', '峙', '科', '岗', '蒸', '贡', '运', '曹', '麻', '通', '兴', '边', '胡', '静', '畴', '轮', '荣', '绥', '茌', '当', '研', '临', '鸣', '宣', '珲', '分', '振', '桃', '拖', '鹿', '平', '昭', '营', '全', '叠', '徒', '百', '莫', '溧', '脱', '淳', '加', '单', '遥', '吉', '杞', '植', '固', '光', '韩', '木', '涧', '岛', '徐', '仙', '沭', '巢', '襄', '淀', '鸡', '穗', '张', '尼', '堆', '店', '晃', '毕', '腊', '拉', '杭', '丰', '紫', '壁', '津', '额', '椒', '岸', '红', '覃', '谋', '双', '芬', '泽', '神', '头', '榕', '溪', '蔚', '烽', '虞', '黔', '贾', '姜', '申', '邮', '九', '廊', '兰', '库', '塘', '托', '霸', '卢', '汪', '巫', '归', '牙', '旦', '盐', '白', '坤', '彭', '射', '赞', '刚', '娄', '朔', '则', '侯', '君', '陇', '十', '洮', '肥', '房', '国', '马', '渡', '施', '满', '弋', '为', '茂', '磨', '应', '莎', '麟', '观', '蕲', '武', '土', '团', '榆', '晖', '索', '麒', '株', '州', '旗', '西', '章', '户', '耆', '垒', '赫', '洱', '厂', '助', '谷', '陶', '祁', '建', '进', '彬', '昆', '菏', '银', '监', '雨', '沈', '肃', '峰', '滦', '坡', '藁', '改', '卓', '阳', '盘', '滩', '滁', '盈', '蛟', '景', '沾', '鹰', '涂', '脂', '费', '拐', '仑', '天', '河', '鄯', '盱', '攸', '冀', '亭', '北', '猗', '志', '冶', '闽', '陂', '功', '衡', '掖', '濠', '葛', '晴', '茄', '星', '鼓', '蓟', '滨', '如', '秀', '胶', '雅', '根', '湾', '尤', '英', '铅', '巩', '闵', '牧', '鱼', '让', '方', '偏', '解', '剑', '孝', '凤', '孜', '炉', '苑', '昂', '吴', '丘', '舒', '常', '介', '翼', '谢', '殷', '理', '碾', '烦', '聊', '代', '锡', '丈', '耿', '宫', '翔', '符', '牡', '基', '涵', '陉', '军', '聂', '祥', '含', '治', '原', '永', '骅', '淄', '泸', '镜', '潞', '太', '溆', '忠', '姚', '牌', '邢', '黟', '台', '邹', '烈', '凌', '垫', '孚', '劝', '花', '泾', '埔', '藤', '拱', '长', '犍', '弓', '微', '荷', '圣', '荔', '车', '堂', '漾', '什', '澜', '寺', '尉', '煌', '邯', '桂', '灌', '湖', '邕', '旬', '维', '绵', '偃', '沛', '镇', '旧', '本', '嵩', '旺', '油', '屯', '远', '勒', '璧', '浚', '贺', '柱', '蓉', '戴', '涟', '荆', '勃', '乡', '乌', '定', '洼', '崖', '桥', '防', '巍', '悟', '末', '棠', '呈', '农', '融', '盖', '秦', '埇', '莞', '桦', '牟', '田', '霍', '葫', '唐', '增', '彦', '硕', '新', '鄂', '伟', '重', '内', '罕', '元', '沐', '周', '滕', '烟', '坎', '底', '箭', '墨', '宿', '会', '次', '甘', '思', '横', '温', '首', '商', '淅', '比', '赉', '居', '赛']\n",
            "Character number: 1212\n",
            "Max length:  5\n"
          ]
        }
      ],
      "source": [
        "print(\"Chinese city names\")\n",
        "\n",
        "# Find the unique characters for the vocabulary\n",
        "vocab_tokens = ['#'] + list(set(''.join(cncities))) #  Here '#' means End of Sentence\n",
        "vocab_tokens_len = len(vocab_tokens)\n",
        "print(vocab_tokens)\n",
        "print(\"Character number:\", vocab_tokens_len)\n",
        "# Find the max length amongst names\n",
        "max_name_len = max(len(name) for name in cn_train)\n",
        "print('Max length: ', max_name_len)"
      ]
    },
    {
      "cell_type": "code",
      "source": [
        "plt.title('Sequence length distribution_cn')\n",
        "plt.hist(list(map(len, cncities)), bins=25);"
      ],
      "metadata": {
        "colab": {
          "base_uri": "https://localhost:8080/",
          "height": 452
        },
        "id": "NwBzR8kNuXg1",
        "outputId": "9a686f3f-98b3-41b2-b2e3-4ad651dcfce1"
      },
      "execution_count": null,
      "outputs": [
        {
          "output_type": "display_data",
          "data": {
            "text/plain": [
              "<Figure size 640x480 with 1 Axes>"
            ],
            "image/png": "[encoded data removed]"
          },
          "metadata": {}
        }
      ]
    },
    {
      "cell_type": "code",
      "source": [
        "print(\"American city names\")\n",
        "vocab_tokens2 = ['#'] + list(set(''.join(uscities))) #  Here '#' means End of Sentence\n",
        "vocab_tokens_len2 = len(vocab_tokens2)\n",
        "print(vocab_tokens2)\n",
        "print(\"Character number:\", vocab_tokens_len2)\n",
        "max_name_len2 = max(len(name) for name in us_train)\n",
        "print('Max length: ', max_name_len2)"
      ],
      "metadata": {
        "colab": {
          "base_uri": "https://localhost:8080/"
        },
        "id": "JJLa0qPasgAc",
        "outputId": "5197ef66-920f-421b-e1d2-bb624c18bf74"
      },
      "execution_count": null,
      "outputs": [
        {
          "output_type": "stream",
          "name": "stdout",
          "text": [
            "American city names\n",
            "['#', 'j', 'd', 'c', 'l', 'z', 'o', 'p', 'b', 's', 'h', 't', 'n', '-', 'v', ' ', 'w', 'x', 'y', \"'\", 'q', 'f', 'm', 'i', 'g', 'u', '.', 'k', 'r', 'e', 'a']\n",
            "Character number: 31\n",
            "Max length:  27\n"
          ]
        }
      ]
    },
    {
      "cell_type": "code",
      "source": [
        "plt.title('Sequence length distribution_us')\n",
        "plt.hist(list(map(len, uscities)), bins=27);"
      ],
      "metadata": {
        "colab": {
          "base_uri": "https://localhost:8080/",
          "height": 452
        },
        "id": "M91JwjG1uivl",
        "outputId": "2f0fe023-331b-4fcc-c49d-0ea37cb95ebe"
      },
      "execution_count": null,
      "outputs": [
        {
          "output_type": "display_data",
          "data": {
            "text/plain": [
              "<Figure size 640x480 with 1 Axes>"
            ],
            "image/png": "[encoded data removed]"
          },
          "metadata": {}
        }
      ]
    },
    {
      "cell_type": "markdown",
      "metadata": {
        "id": "A8R8xAmGYnSO"
      },
      "source": [
        "**2. Create a dictionary mapping of characters to indices and vice-versa**"
      ]
    },
    {
      "cell_type": "code",
      "execution_count": null,
      "metadata": {
        "id": "zg5X_7SXXuoY",
        "colab": {
          "base_uri": "https://localhost:8080/"
        },
        "outputId": "cdbdc20f-67e5-4eed-c397-66ac79216ca2"
      },
      "outputs": [
        {
          "output_type": "stream",
          "name": "stdout",
          "text": [
            "\n",
            "Dict len:  1212\n",
            "{'#': 0, '圩': 1, '萝': 2, '郊': 3, '猇': 4, '邳': 5, '楚': 6, '芷': 7, '浩': 8, '化': 9, '惠': 10, '班': 11, '得': 12, '真': 13, '贝': 14, '政': 15, '环': 16, '琼': 17, '弥': 18, '蒗': 19, '音': 20, '邡': 21, '云': 22, '贞': 23, '金': 24, '社': 25, '魏': 26, '瓦': 27, '钓': 28, '叙': 29, '锋': 30, '扬': 31, '石': 32, '阆': 33, '涡': 34, '零': 35, '潮': 36, '旌': 37, '伽': 38, '霞': 39, '顺': 40, '舟': 41, '小': 42, '孙': 43, '将': 44, '瑞': 45, '广': 46, '晋': 47, '清': 48, '碑': 49, '伯': 50, '鲁': 51, '庄': 52, '钦': 53, '禹': 54, '洛': 55, '蓥': 56, '祝': 57, '澧': 58, '逊': 59, '韶': 60, '斯': 61, '端': 62, '濮': 63, '峻': 64, '觉': 65, '芒': 66, '年': 67, '资': 68, '郁': 69, '仔': 70, '坻': 71, '齐': 72, '集': 73, '汨': 74, '布': 75, '离': 76, '歙': 77, '遵': 78, '足': 79, '册': 80, '乳': 81, '碧': 82, '巴': 83, '忻': 84, '荫': 85, '恭': 86, '点': 87, '明': 88, '月': 89, '东': 90, '迎': 91, '孟': 92, '精': 93, '枝': 94, '勐': 95, '圳': 96, '邗': 97, '山': 98, '衢': 99, '棣': 100, '嫩': 101, '后': 102, '保': 103, '留': 104, '芗': 105, '洋': 106, '崃': 107, '峄': 108, '沁': 109, '特': 110, '简': 111, '附': 112, '雍': 113, '邱': 114, '涉': 115, '繁': 116, '门': 117, '敦': 118, '爱': 119, '名': 120, '扎': 121, '贤': 122, '启': 123, '项': 124, '磁': 125, '野': 126, '坂': 127, '盂': 128, '仆': 129, '朐': 130, '乃': 131, '宛': 132, '乐': 133, '青': 134, '八': 135, '革': 136, '左': 137, '勉': 138, '行': 139, '信': 140, '蔡': 141, '鼎': 142, '曙': 143, '汤': 144, '麓': 145, '邺': 146, '洪': 147, '莒': 148, '晏': 149, '郑': 150, '浏': 151, '带': 152, '瓯': 153, '赵': 154, '票': 155, '凭': 156, '阁': 157, '穆': 158, '澳': 159, '七': 160, '容': 161, '婺': 162, '王': 163, '水': 164, '师': 165, '尔': 166, '岭': 167, '壤': 168, '屿': 169, '铜': 170, '管': 171, '妃': 172, '迈': 173, '相': 174, '綦': 175, '郾': 176, '富': 177, '芦': 178, '鹤': 179, '立': 180, '千': 181, '缙': 182, '鄄': 183, '福': 184, '江': 185, '扶': 186, '等': 187, '巨': 188, '宕': 189, '始': 190, '鸠': 191, '浑': 192, '厢': 193, '察': 194, '邵': 195, '拜': 196, '李': 197, '冈': 198, '谱': 199, '文': 200, '鲅': 201, '闻': 202, '浮': 203, '盟': 204, '钢': 205, '陈': 206, '酒': 207, '主': 208, '源': 209, '枣': 210, '岑': 211, '且': 212, '井': 213, '力': 214, '邛': 215, '舆': 216, '磐': 217, '两': 218, '手': 219, '罘': 220, '果': 221, '芙': 222, '犁': 223, '嘎': 224, '冕': 225, '辉': 226, '瑶': 227, '共': 228, '川': 229, '浦': 230, '万': 231, '桑': 232, '岚': 233, '益': 234, '峒': 235, '日': 236, '砀': 237, '峡': 238, '宇': 239, '汶': 240, '蓝': 241, '瓮': 242, '岩': 243, '蔺': 244, '子': 245, '曲': 246, '投': 247, '汇': 248, '棉': 249, '梦': 250, '戈': 251, '列': 252, '熟': 253, '六': 254, '感': 255, '响': 256, '积': 257, '版': 258, '圈': 259, '曼': 260, '鄱': 261, '兵': 262, '延': 263, '锦': 264, '仪': 265, '氏': 266, '修': 267, '埠': 268, '节': 269, '碌': 270, '邻': 271, '慈': 272, '友': 273, '类': 274, '确': 275, '范': 276, '浠': 277, '旅': 278, '循': 279, '稻': 280, '好': 281, '麦': 282, '羌': 283, '峪': 284, '皋': 285, '漳': 286, '达': 287, '鄢': 288, '法': 289, '诸': 290, '枞': 291, '筠': 292, '潭': 293, '庐': 294, '郏': 295, '辛': 296, '中': 297, '鞍': 298, '结': 299, '浔': 300, '稷': 301, '个': 302, '玛': 303, '屏': 304, '许': 305, '尧': 306, '昌': 307, '承': 308, '敏': 309, '芜': 310, '焉': 311, '雁': 312, '叶': 313, '眉': 314, '桓': 315, '噶': 316, '亨': 317, '浪': 318, '杂': 319, '开': 320, '坛': 321, '冠': 322, '芝': 323, '丛': 324, '卧': 325, '墅': 326, '至': 327, '泊': 328, '渝': 329, '巧': 330, '穴': 331, '于': 332, '囊': 333, '尾': 334, '蜀': 335, '袁': 336, '恰': 337, '克': 338, '任': 339, '里': 340, '佛': 341, '湘': 342, '茅': 343, '寿': 344, '渑': 345, '招': 346, '细': 347, '蠡': 348, '槐': 349, '作': 350, '沽': 351, '陟': 352, '滴': 353, '右': 354, '色': 355, '昔': 356, '街': 357, '村': 358, '怀': 359, '电': 360, '彝': 361, '辽': 362, '池': 363, '虹': 364, '风': 365, '矿': 366, '滑': 367, '区': 368, '连': 369, '林': 370, '栗': 371, '寨': 372, '密': 373, '醴': 374, '业': 375, '下': 376, '崇': 377, '绍': 378, '安': 379, '狮': 380, '犹': 381, '心': 382, '自': 383, '浉': 384, '苏': 385, '阜': 386, '蒲': 387, '吕': 388, '潘': 389, '竹': 390, '古': 391, '香': 392, '可': 393, '竞': 394, '汕': 395, '揭': 396, '柔': 397, '酉': 398, '萨': 399, '禅': 400, '树': 401, '汉': 402, '桐': 403, '砚': 404, '沙': 405, '呼': 406, '棱': 407, '栾': 408, '灵': 409, '场': 410, '遂': 411, '府': 412, '那': 413, '汀': 414, '阿': 415, '利': 416, '正': 417, '岷': 418, '崆': 419, '放': 420, '罗': 421, '辰': 422, '米': 423, '隰': 424, '合': 425, '沿': 426, '园': 427, '纳': 428, '泉': 429, '美': 430, '深': 431, '德': 432, '润': 433, '休': 434, '郭': 435, '茶': 436, '召': 437, '磴': 438, '华': 439, '京': 440, '港': 441, '架': 442, '郎': 443, '织': 444, '赤': 445, '潍': 446, '高': 447, '柯': 448, '乾': 449, '宽': 450, '无': 451, '芮': 452, '镶': 453, '庆': 454, '郓': 455, '央': 456, '郯': 457, '仲': 458, '成': 459, '琅': 460, '瀍': 461, '萍': 462, '睢': 463, '柘': 464, '涞': 465, '故': 466, '市': 467, '沃': 468, '嘴': 469, '钟': 470, '碚': 471, '略': 472, '萧': 473, '围': 474, '图': 475, '鄞': 476, '岱': 477, '间': 478, '苍': 479, '博': 480, '强': 481, '习': 482, '厦': 483, '游': 484, '牛': 485, '恒': 486, '阡': 487, '廉': 488, '象': 489, '莆': 490, '三': 491, '坝': 492, '湛': 493, '向': 494, '海': 495, '干': 496, '奎': 497, '玄': 498, '疏': 499, '绩': 500, '诏': 501, '陀': 502, '凯': 503, '四': 504, '仓': 505, '灞': 506, '沂': 507, '陵': 508, '涿': 509, '互': 510, '曾': 511, '调': 512, '船': 513, '灯': 514, '梁': 515, '洞': 516, '隅': 517, '朗': 518, '淖': 519, '儋': 520, '宁': 521, '渠': 522, '洲': 523, '获': 524, '谯': 525, '裕': 526, '未': 527, '谦': 528, '羊': 529, '炎': 530, '湄': 531, '提': 532, '邑': 533, '寒': 534, '禾': 535, '官': 536, '宾': 537, '闸': 538, '冷': 539, '城': 540, '义': 541, '琊': 542, '越': 543, '涪': 544, '莘': 545, '称': 546, '樟': 547, '蕉': 548, '峨': 549, '攀': 550, '札': 551, '工': 552, '路': 553, '郫': 554, '霄': 555, '二': 556, '赣': 557, '翁': 558, '喇': 559, '仁': 560, '儿': 561, '焦': 562, '抚': 563, '迦': 564, '雄': 565, '苗': 566, '迁': 567, '突': 568, '礼': 569, '陆': 570, '草': 571, '康': 572, '皮': 573, '岳': 574, '夷': 575, '斗': 576, '隆': 577, '依': 578, '良': 579, '珠': 580, '莱': 581, '奇': 582, '郧': 583, '复': 584, '审': 585, '黎': 586, '瓜': 587, '驻': 588, '回': 589, '迪': 590, '宗': 591, '包': 592, '宏': 593, '嘉': 594, '寻': 595, '诺': 596, '沅': 597, '度': 598, '澄': 599, '梨': 600, '兖': 601, '即': 602, '胜': 603, '吐': 604, '馆': 605, '格': 606, '暨': 607, '柏': 608, '靖': 609, '交': 610, '凉': 611, '饶': 612, '准': 613, '喜': 614, '耀': 615, '极': 616, '夏': 617, '尚': 618, '哈': 619, '彩': 620, '夹': 621, '堰': 622, '眙': 623, '耒': 624, '秭': 625, '堡': 626, '令': 627, '龙': 628, '播': 629, '浈': 630, '策': 631, '民': 632, '迭': 633, '措': 634, '历': 635, '善': 636, '岢': 637, '务': 638, '老': 639, '句': 640, '丁': 641, '淇': 642, '口': 643, '沧': 644, '征': 645, '秉': 646, '掇': 647, '从': 648, '伦': 649, '岔': 650, '虎': 651, '冲': 652, '喀': 653, '绛': 654, '久': 655, '彰': 656, '和': 657, '陕': 658, '封': 659, '垦': 660, '番': 661, '望': 662, '姑': 663, '来': 664, '驿': 665, '黑': 666, '梧': 667, '腾': 668, '杨': 669, '上': 670, '丹': 671, '指': 672, '樊': 673, '濞': 674, '恩': 675, '卡': 676, '禺': 677, '登': 678, '峦': 679, '大': 680, '茫': 681, '余': 682, '宜': 683, '都': 684, '谟': 685, '匀': 686, '鲤': 687, '吾': 688, '濉': 689, '邓': 690, '壶': 691, '翠': 692, '南': 693, '潢': 694, '松': 695, '普': 696, '易': 697, '步': 698, '莲': 699, '梓': 700, '要': 701, '道': 702, '雷': 703, '涯': 704, '奉': 705, '同': 706, '梅': 707, '垣': 708, '界': 709, '荥': 710, '丽': 711, '波': 712, '沟': 713, '漯': 714, '站': 715, '塔': 716, '滋': 717, '献': 718, '县': 719, '阎': 720, '蒙': 721, '漠': 722, '柞': 723, '五': 724, '淞': 725, '外': 726, '独': 727, '伊': 728, '前': 729, '徽': 730, '颍': 731, '肇': 732, '们': 733, '岐': 734, '蓬': 735, '伍': 736, '蕴': 737, '潼': 738, '怒': 739, '若': 740, '汝': 741, '绿': 742, '咸': 743, '春': 744, '卫': 745, '潜': 746, '勤': 747, '坪': 748, '泰': 749, '铁': 750, '鸭': 751, '谊': 752, '讷': 753, '甸': 754, '考': 755, '庵': 756, '舞': 757, '随': 758, '尖': 759, '郸': 760, '息': 761, '渭': 762, '楞': 763, '奈': 764, '佳': 765, '柳': 766, '泌': 767, '阴': 768, '流': 769, '权': 770, '朝': 771, '皇': 772, '载': 773, '杜': 774, '印': 775, '起': 776, '亚': 777, '氹': 778, '汾': 779, '蚌': 780, '岫': 781, '亳': 782, '刀': 783, '淮': 784, '楼': 785, '充': 786, '柴': 787, '家': 788, '禄': 789, '经': 790, '错': 791, '泗': 792, '关': 793, '威': 794, '碱': 795, '照': 796, '湟': 797, '凰': 798, '珙': 799, '宝': 800, '郴': 801, '薛': 802, '杏': 803, '硚': 804, '黄': 805, '玉': 806, '豫': 807, '查': 808, '坊': 809, '栖': 810, '嵊': 811, '部': 812, '敖': 813, '多': 814, '顶': 815, '塞': 816, '公': 817, '济': 818, '贵': 819, '崂': 820, '峙': 821, '科': 822, '岗': 823, '蒸': 824, '贡': 825, '运': 826, '曹': 827, '麻': 828, '通': 829, '兴': 830, '边': 831, '胡': 832, '静': 833, '畴': 834, '轮': 835, '荣': 836, '绥': 837, '茌': 838, '当': 839, '研': 840, '临': 841, '鸣': 842, '宣': 843, '珲': 844, '分': 845, '振': 846, '桃': 847, '拖': 848, '鹿': 849, '平': 850, '昭': 851, '营': 852, '全': 853, '叠': 854, '徒': 855, '百': 856, '莫': 857, '溧': 858, '脱': 859, '淳': 860, '加': 861, '单': 862, '遥': 863, '吉': 864, '杞': 865, '植': 866, '固': 867, '光': 868, '韩': 869, '木': 870, '涧': 871, '岛': 872, '徐': 873, '仙': 874, '沭': 875, '巢': 876, '襄': 877, '淀': 878, '鸡': 879, '穗': 880, '张': 881, '尼': 882, '堆': 883, '店': 884, '晃': 885, '毕': 886, '腊': 887, '拉': 888, '杭': 889, '丰': 890, '紫': 891, '壁': 892, '津': 893, '额': 894, '椒': 895, '岸': 896, '红': 897, '覃': 898, '谋': 899, '双': 900, '芬': 901, '泽': 902, '神': 903, '头': 904, '榕': 905, '溪': 906, '蔚': 907, '烽': 908, '虞': 909, '黔': 910, '贾': 911, '姜': 912, '申': 913, '邮': 914, '九': 915, '廊': 916, '兰': 917, '库': 918, '塘': 919, '托': 920, '霸': 921, '卢': 922, '汪': 923, '巫': 924, '归': 925, '牙': 926, '旦': 927, '盐': 928, '白': 929, '坤': 930, '彭': 931, '射': 932, '赞': 933, '刚': 934, '娄': 935, '朔': 936, '则': 937, '侯': 938, '君': 939, '陇': 940, '十': 941, '洮': 942, '肥': 943, '房': 944, '国': 945, '马': 946, '渡': 947, '施': 948, '满': 949, '弋': 950, '为': 951, '茂': 952, '磨': 953, '应': 954, '莎': 955, '麟': 956, '观': 957, '蕲': 958, '武': 959, '土': 960, '团': 961, '榆': 962, '晖': 963, '索': 964, '麒': 965, '株': 966, '州': 967, '旗': 968, '西': 969, '章': 970, '户': 971, '耆': 972, '垒': 973, '赫': 974, '洱': 975, '厂': 976, '助': 977, '谷': 978, '陶': 979, '祁': 980, '建': 981, '进': 982, '彬': 983, '昆': 984, '菏': 985, '银': 986, '监': 987, '雨': 988, '沈': 989, '肃': 990, '峰': 991, '滦': 992, '坡': 993, '藁': 994, '改': 995, '卓': 996, '阳': 997, '盘': 998, '滩': 999, '滁': 1000, '盈': 1001, '蛟': 1002, '景': 1003, '沾': 1004, '鹰': 1005, '涂': 1006, '脂': 1007, '费': 1008, '拐': 1009, '仑': 1010, '天': 1011, '河': 1012, '鄯': 1013, '盱': 1014, '攸': 1015, '冀': 1016, '亭': 1017, '北': 1018, '猗': 1019, '志': 1020, '冶': 1021, '闽': 1022, '陂': 1023, '功': 1024, '衡': 1025, '掖': 1026, '濠': 1027, '葛': 1028, '晴': 1029, '茄': 1030, '星': 1031, '鼓': 1032, '蓟': 1033, '滨': 1034, '如': 1035, '秀': 1036, '胶': 1037, '雅': 1038, '根': 1039, '湾': 1040, '尤': 1041, '英': 1042, '铅': 1043, '巩': 1044, '闵': 1045, '牧': 1046, '鱼': 1047, '让': 1048, '方': 1049, '偏': 1050, '解': 1051, '剑': 1052, '孝': 1053, '凤': 1054, '孜': 1055, '炉': 1056, '苑': 1057, '昂': 1058, '吴': 1059, '丘': 1060, '舒': 1061, '常': 1062, '介': 1063, '翼': 1064, '谢': 1065, '殷': 1066, '理': 1067, '碾': 1068, '烦': 1069, '聊': 1070, '代': 1071, '锡': 1072, '丈': 1073, '耿': 1074, '宫': 1075, '翔': 1076, '符': 1077, '牡': 1078, '基': 1079, '涵': 1080, '陉': 1081, '军': 1082, '聂': 1083, '祥': 1084, '含': 1085, '治': 1086, '原': 1087, '永': 1088, '骅': 1089, '淄': 1090, '泸': 1091, '镜': 1092, '潞': 1093, '太': 1094, '溆': 1095, '忠': 1096, '姚': 1097, '牌': 1098, '邢': 1099, '黟': 1100, '台': 1101, '邹': 1102, '烈': 1103, '凌': 1104, '垫': 1105, '孚': 1106, '劝': 1107, '花': 1108, '泾': 1109, '埔': 1110, '藤': 1111, '拱': 1112, '长': 1113, '犍': 1114, '弓': 1115, '微': 1116, '荷': 1117, '圣': 1118, '荔': 1119, '车': 1120, '堂': 1121, '漾': 1122, '什': 1123, '澜': 1124, '寺': 1125, '尉': 1126, '煌': 1127, '邯': 1128, '桂': 1129, '灌': 1130, '湖': 1131, '邕': 1132, '旬': 1133, '维': 1134, '绵': 1135, '偃': 1136, '沛': 1137, '镇': 1138, '旧': 1139, '本': 1140, '嵩': 1141, '旺': 1142, '油': 1143, '屯': 1144, '远': 1145, '勒': 1146, '璧': 1147, '浚': 1148, '贺': 1149, '柱': 1150, '蓉': 1151, '戴': 1152, '涟': 1153, '荆': 1154, '勃': 1155, '乡': 1156, '乌': 1157, '定': 1158, '洼': 1159, '崖': 1160, '桥': 1161, '防': 1162, '巍': 1163, '悟': 1164, '末': 1165, '棠': 1166, '呈': 1167, '农': 1168, '融': 1169, '盖': 1170, '秦': 1171, '埇': 1172, '莞': 1173, '桦': 1174, '牟': 1175, '田': 1176, '霍': 1177, '葫': 1178, '唐': 1179, '增': 1180, '彦': 1181, '硕': 1182, '新': 1183, '鄂': 1184, '伟': 1185, '重': 1186, '内': 1187, '罕': 1188, '元': 1189, '沐': 1190, '周': 1191, '滕': 1192, '烟': 1193, '坎': 1194, '底': 1195, '箭': 1196, '墨': 1197, '宿': 1198, '会': 1199, '次': 1200, '甘': 1201, '思': 1202, '横': 1203, '温': 1204, '首': 1205, '商': 1206, '淅': 1207, '比': 1208, '赉': 1209, '居': 1210, '赛': 1211}\n",
            "\n",
            "Dict len:  1212\n",
            "{0: '#', 1: '圩', 2: '萝', 3: '郊', 4: '猇', 5: '邳', 6: '楚', 7: '芷', 8: '浩', 9: '化', 10: '惠', 11: '班', 12: '得', 13: '真', 14: '贝', 15: '政', 16: '环', 17: '琼', 18: '弥', 19: '蒗', 20: '音', 21: '邡', 22: '云', 23: '贞', 24: '金', 25: '社', 26: '魏', 27: '瓦', 28: '钓', 29: '叙', 30: '锋', 31: '扬', 32: '石', 33: '阆', 34: '涡', 35: '零', 36: '潮', 37: '旌', 38: '伽', 39: '霞', 40: '顺', 41: '舟', 42: '小', 43: '孙', 44: '将', 45: '瑞', 46: '广', 47: '晋', 48: '清', 49: '碑', 50: '伯', 51: '鲁', 52: '庄', 53: '钦', 54: '禹', 55: '洛', 56: '蓥', 57: '祝', 58: '澧', 59: '逊', 60: '韶', 61: '斯', 62: '端', 63: '濮', 64: '峻', 65: '觉', 66: '芒', 67: '年', 68: '资', 69: '郁', 70: '仔', 71: '坻', 72: '齐', 73: '集', 74: '汨', 75: '布', 76: '离', 77: '歙', 78: '遵', 79: '足', 80: '册', 81: '乳', 82: '碧', 83: '巴', 84: '忻', 85: '荫', 86: '恭', 87: '点', 88: '明', 89: '月', 90: '东', 91: '迎', 92: '孟', 93: '精', 94: '枝', 95: '勐', 96: '圳', 97: '邗', 98: '山', 99: '衢', 100: '棣', 101: '嫩', 102: '后', 103: '保', 104: '留', 105: '芗', 106: '洋', 107: '崃', 108: '峄', 109: '沁', 110: '特', 111: '简', 112: '附', 113: '雍', 114: '邱', 115: '涉', 116: '繁', 117: '门', 118: '敦', 119: '爱', 120: '名', 121: '扎', 122: '贤', 123: '启', 124: '项', 125: '磁', 126: '野', 127: '坂', 128: '盂', 129: '仆', 130: '朐', 131: '乃', 132: '宛', 133: '乐', 134: '青', 135: '八', 136: '革', 137: '左', 138: '勉', 139: '行', 140: '信', 141: '蔡', 142: '鼎', 143: '曙', 144: '汤', 145: '麓', 146: '邺', 147: '洪', 148: '莒', 149: '晏', 150: '郑', 151: '浏', 152: '带', 153: '瓯', 154: '赵', 155: '票', 156: '凭', 157: '阁', 158: '穆', 159: '澳', 160: '七', 161: '容', 162: '婺', 163: '王', 164: '水', 165: '师', 166: '尔', 167: '岭', 168: '壤', 169: '屿', 170: '铜', 171: '管', 172: '妃', 173: '迈', 174: '相', 175: '綦', 176: '郾', 177: '富', 178: '芦', 179: '鹤', 180: '立', 181: '千', 182: '缙', 183: '鄄', 184: '福', 185: '江', 186: '扶', 187: '等', 188: '巨', 189: '宕', 190: '始', 191: '鸠', 192: '浑', 193: '厢', 194: '察', 195: '邵', 196: '拜', 197: '李', 198: '冈', 199: '谱', 200: '文', 201: '鲅', 202: '闻', 203: '浮', 204: '盟', 205: '钢', 206: '陈', 207: '酒', 208: '主', 209: '源', 210: '枣', 211: '岑', 212: '且', 213: '井', 214: '力', 215: '邛', 216: '舆', 217: '磐', 218: '两', 219: '手', 220: '罘', 221: '果', 222: '芙', 223: '犁', 224: '嘎', 225: '冕', 226: '辉', 227: '瑶', 228: '共', 229: '川', 230: '浦', 231: '万', 232: '桑', 233: '岚', 234: '益', 235: '峒', 236: '日', 237: '砀', 238: '峡', 239: '宇', 240: '汶', 241: '蓝', 242: '瓮', 243: '岩', 244: '蔺', 245: '子', 246: '曲', 247: '投', 248: '汇', 249: '棉', 250: '梦', 251: '戈', 252: '列', 253: '熟', 254: '六', 255: '感', 256: '响', 257: '积', 258: '版', 259: '圈', 260: '曼', 261: '鄱', 262: '兵', 263: '延', 264: '锦', 265: '仪', 266: '氏', 267: '修', 268: '埠', 269: '节', 270: '碌', 271: '邻', 272: '慈', 273: '友', 274: '类', 275: '确', 276: '范', 277: '浠', 278: '旅', 279: '循', 280: '稻', 281: '好', 282: '麦', 283: '羌', 284: '峪', 285: '皋', 286: '漳', 287: '达', 288: '鄢', 289: '法', 290: '诸', 291: '枞', 292: '筠', 293: '潭', 294: '庐', 295: '郏', 296: '辛', 297: '中', 298: '鞍', 299: '结', 300: '浔', 301: '稷', 302: '个', 303: '玛', 304: '屏', 305: '许', 306: '尧', 307: '昌', 308: '承', 309: '敏', 310: '芜', 311: '焉', 312: '雁', 313: '叶', 314: '眉', 315: '桓', 316: '噶', 317: '亨', 318: '浪', 319: '杂', 320: '开', 321: '坛', 322: '冠', 323: '芝', 324: '丛', 325: '卧', 326: '墅', 327: '至', 328: '泊', 329: '渝', 330: '巧', 331: '穴', 332: '于', 333: '囊', 334: '尾', 335: '蜀', 336: '袁', 337: '恰', 338: '克', 339: '任', 340: '里', 341: '佛', 342: '湘', 343: '茅', 344: '寿', 345: '渑', 346: '招', 347: '细', 348: '蠡', 349: '槐', 350: '作', 351: '沽', 352: '陟', 353: '滴', 354: '右', 355: '色', 356: '昔', 357: '街', 358: '村', 359: '怀', 360: '电', 361: '彝', 362: '辽', 363: '池', 364: '虹', 365: '风', 366: '矿', 367: '滑', 368: '区', 369: '连', 370: '林', 371: '栗', 372: '寨', 373: '密', 374: '醴', 375: '业', 376: '下', 377: '崇', 378: '绍', 379: '安', 380: '狮', 381: '犹', 382: '心', 383: '自', 384: '浉', 385: '苏', 386: '阜', 387: '蒲', 388: '吕', 389: '潘', 390: '竹', 391: '古', 392: '香', 393: '可', 394: '竞', 395: '汕', 396: '揭', 397: '柔', 398: '酉', 399: '萨', 400: '禅', 401: '树', 402: '汉', 403: '桐', 404: '砚', 405: '沙', 406: '呼', 407: '棱', 408: '栾', 409: '灵', 410: '场', 411: '遂', 412: '府', 413: '那', 414: '汀', 415: '阿', 416: '利', 417: '正', 418: '岷', 419: '崆', 420: '放', 421: '罗', 422: '辰', 423: '米', 424: '隰', 425: '合', 426: '沿', 427: '园', 428: '纳', 429: '泉', 430: '美', 431: '深', 432: '德', 433: '润', 434: '休', 435: '郭', 436: '茶', 437: '召', 438: '磴', 439: '华', 440: '京', 441: '港', 442: '架', 443: '郎', 444: '织', 445: '赤', 446: '潍', 447: '高', 448: '柯', 449: '乾', 450: '宽', 451: '无', 452: '芮', 453: '镶', 454: '庆', 455: '郓', 456: '央', 457: '郯', 458: '仲', 459: '成', 460: '琅', 461: '瀍', 462: '萍', 463: '睢', 464: '柘', 465: '涞', 466: '故', 467: '市', 468: '沃', 469: '嘴', 470: '钟', 471: '碚', 472: '略', 473: '萧', 474: '围', 475: '图', 476: '鄞', 477: '岱', 478: '间', 479: '苍', 480: '博', 481: '强', 482: '习', 483: '厦', 484: '游', 485: '牛', 486: '恒', 487: '阡', 488: '廉', 489: '象', 490: '莆', 491: '三', 492: '坝', 493: '湛', 494: '向', 495: '海', 496: '干', 497: '奎', 498: '玄', 499: '疏', 500: '绩', 501: '诏', 502: '陀', 503: '凯', 504: '四', 505: '仓', 506: '灞', 507: '沂', 508: '陵', 509: '涿', 510: '互', 511: '曾', 512: '调', 513: '船', 514: '灯', 515: '梁', 516: '洞', 517: '隅', 518: '朗', 519: '淖', 520: '儋', 521: '宁', 522: '渠', 523: '洲', 524: '获', 525: '谯', 526: '裕', 527: '未', 528: '谦', 529: '羊', 530: '炎', 531: '湄', 532: '提', 533: '邑', 534: '寒', 535: '禾', 536: '官', 537: '宾', 538: '闸', 539: '冷', 540: '城', 541: '义', 542: '琊', 543: '越', 544: '涪', 545: '莘', 546: '称', 547: '樟', 548: '蕉', 549: '峨', 550: '攀', 551: '札', 552: '工', 553: '路', 554: '郫', 555: '霄', 556: '二', 557: '赣', 558: '翁', 559: '喇', 560: '仁', 561: '儿', 562: '焦', 563: '抚', 564: '迦', 565: '雄', 566: '苗', 567: '迁', 568: '突', 569: '礼', 570: '陆', 571: '草', 572: '康', 573: '皮', 574: '岳', 575: '夷', 576: '斗', 577: '隆', 578: '依', 579: '良', 580: '珠', 581: '莱', 582: '奇', 583: '郧', 584: '复', 585: '审', 586: '黎', 587: '瓜', 588: '驻', 589: '回', 590: '迪', 591: '宗', 592: '包', 593: '宏', 594: '嘉', 595: '寻', 596: '诺', 597: '沅', 598: '度', 599: '澄', 600: '梨', 601: '兖', 602: '即', 603: '胜', 604: '吐', 605: '馆', 606: '格', 607: '暨', 608: '柏', 609: '靖', 610: '交', 611: '凉', 612: '饶', 613: '准', 614: '喜', 615: '耀', 616: '极', 617: '夏', 618: '尚', 619: '哈', 620: '彩', 621: '夹', 622: '堰', 623: '眙', 624: '耒', 625: '秭', 626: '堡', 627: '令', 628: '龙', 629: '播', 630: '浈', 631: '策', 632: '民', 633: '迭', 634: '措', 635: '历', 636: '善', 637: '岢', 638: '务', 639: '老', 640: '句', 641: '丁', 642: '淇', 643: '口', 644: '沧', 645: '征', 646: '秉', 647: '掇', 648: '从', 649: '伦', 650: '岔', 651: '虎', 652: '冲', 653: '喀', 654: '绛', 655: '久', 656: '彰', 657: '和', 658: '陕', 659: '封', 660: '垦', 661: '番', 662: '望', 663: '姑', 664: '来', 665: '驿', 666: '黑', 667: '梧', 668: '腾', 669: '杨', 670: '上', 671: '丹', 672: '指', 673: '樊', 674: '濞', 675: '恩', 676: '卡', 677: '禺', 678: '登', 679: '峦', 680: '大', 681: '茫', 682: '余', 683: '宜', 684: '都', 685: '谟', 686: '匀', 687: '鲤', 688: '吾', 689: '濉', 690: '邓', 691: '壶', 692: '翠', 693: '南', 694: '潢', 695: '松', 696: '普', 697: '易', 698: '步', 699: '莲', 700: '梓', 701: '要', 702: '道', 703: '雷', 704: '涯', 705: '奉', 706: '同', 707: '梅', 708: '垣', 709: '界', 710: '荥', 711: '丽', 712: '波', 713: '沟', 714: '漯', 715: '站', 716: '塔', 717: '滋', 718: '献', 719: '县', 720: '阎', 721: '蒙', 722: '漠', 723: '柞', 724: '五', 725: '淞', 726: '外', 727: '独', 728: '伊', 729: '前', 730: '徽', 731: '颍', 732: '肇', 733: '们', 734: '岐', 735: '蓬', 736: '伍', 737: '蕴', 738: '潼', 739: '怒', 740: '若', 741: '汝', 742: '绿', 743: '咸', 744: '春', 745: '卫', 746: '潜', 747: '勤', 748: '坪', 749: '泰', 750: '铁', 751: '鸭', 752: '谊', 753: '讷', 754: '甸', 755: '考', 756: '庵', 757: '舞', 758: '随', 759: '尖', 760: '郸', 761: '息', 762: '渭', 763: '楞', 764: '奈', 765: '佳', 766: '柳', 767: '泌', 768: '阴', 769: '流', 770: '权', 771: '朝', 772: '皇', 773: '载', 774: '杜', 775: '印', 776: '起', 777: '亚', 778: '氹', 779: '汾', 780: '蚌', 781: '岫', 782: '亳', 783: '刀', 784: '淮', 785: '楼', 786: '充', 787: '柴', 788: '家', 789: '禄', 790: '经', 791: '错', 792: '泗', 793: '关', 794: '威', 795: '碱', 796: '照', 797: '湟', 798: '凰', 799: '珙', 800: '宝', 801: '郴', 802: '薛', 803: '杏', 804: '硚', 805: '黄', 806: '玉', 807: '豫', 808: '查', 809: '坊', 810: '栖', 811: '嵊', 812: '部', 813: '敖', 814: '多', 815: '顶', 816: '塞', 817: '公', 818: '济', 819: '贵', 820: '崂', 821: '峙', 822: '科', 823: '岗', 824: '蒸', 825: '贡', 826: '运', 827: '曹', 828: '麻', 829: '通', 830: '兴', 831: '边', 832: '胡', 833: '静', 834: '畴', 835: '轮', 836: '荣', 837: '绥', 838: '茌', 839: '当', 840: '研', 841: '临', 842: '鸣', 843: '宣', 844: '珲', 845: '分', 846: '振', 847: '桃', 848: '拖', 849: '鹿', 850: '平', 851: '昭', 852: '营', 853: '全', 854: '叠', 855: '徒', 856: '百', 857: '莫', 858: '溧', 859: '脱', 860: '淳', 861: '加', 862: '单', 863: '遥', 864: '吉', 865: '杞', 866: '植', 867: '固', 868: '光', 869: '韩', 870: '木', 871: '涧', 872: '岛', 873: '徐', 874: '仙', 875: '沭', 876: '巢', 877: '襄', 878: '淀', 879: '鸡', 880: '穗', 881: '张', 882: '尼', 883: '堆', 884: '店', 885: '晃', 886: '毕', 887: '腊', 888: '拉', 889: '杭', 890: '丰', 891: '紫', 892: '壁', 893: '津', 894: '额', 895: '椒', 896: '岸', 897: '红', 898: '覃', 899: '谋', 900: '双', 901: '芬', 902: '泽', 903: '神', 904: '头', 905: '榕', 906: '溪', 907: '蔚', 908: '烽', 909: '虞', 910: '黔', 911: '贾', 912: '姜', 913: '申', 914: '邮', 915: '九', 916: '廊', 917: '兰', 918: '库', 919: '塘', 920: '托', 921: '霸', 922: '卢', 923: '汪', 924: '巫', 925: '归', 926: '牙', 927: '旦', 928: '盐', 929: '白', 930: '坤', 931: '彭', 932: '射', 933: '赞', 934: '刚', 935: '娄', 936: '朔', 937: '则', 938: '侯', 939: '君', 940: '陇', 941: '十', 942: '洮', 943: '肥', 944: '房', 945: '国', 946: '马', 947: '渡', 948: '施', 949: '满', 950: '弋', 951: '为', 952: '茂', 953: '磨', 954: '应', 955: '莎', 956: '麟', 957: '观', 958: '蕲', 959: '武', 960: '土', 961: '团', 962: '榆', 963: '晖', 964: '索', 965: '麒', 966: '株', 967: '州', 968: '旗', 969: '西', 970: '章', 971: '户', 972: '耆', 973: '垒', 974: '赫', 975: '洱', 976: '厂', 977: '助', 978: '谷', 979: '陶', 980: '祁', 981: '建', 982: '进', 983: '彬', 984: '昆', 985: '菏', 986: '银', 987: '监', 988: '雨', 989: '沈', 990: '肃', 991: '峰', 992: '滦', 993: '坡', 994: '藁', 995: '改', 996: '卓', 997: '阳', 998: '盘', 999: '滩', 1000: '滁', 1001: '盈', 1002: '蛟', 1003: '景', 1004: '沾', 1005: '鹰', 1006: '涂', 1007: '脂', 1008: '费', 1009: '拐', 1010: '仑', 1011: '天', 1012: '河', 1013: '鄯', 1014: '盱', 1015: '攸', 1016: '冀', 1017: '亭', 1018: '北', 1019: '猗', 1020: '志', 1021: '冶', 1022: '闽', 1023: '陂', 1024: '功', 1025: '衡', 1026: '掖', 1027: '濠', 1028: '葛', 1029: '晴', 1030: '茄', 1031: '星', 1032: '鼓', 1033: '蓟', 1034: '滨', 1035: '如', 1036: '秀', 1037: '胶', 1038: '雅', 1039: '根', 1040: '湾', 1041: '尤', 1042: '英', 1043: '铅', 1044: '巩', 1045: '闵', 1046: '牧', 1047: '鱼', 1048: '让', 1049: '方', 1050: '偏', 1051: '解', 1052: '剑', 1053: '孝', 1054: '凤', 1055: '孜', 1056: '炉', 1057: '苑', 1058: '昂', 1059: '吴', 1060: '丘', 1061: '舒', 1062: '常', 1063: '介', 1064: '翼', 1065: '谢', 1066: '殷', 1067: '理', 1068: '碾', 1069: '烦', 1070: '聊', 1071: '代', 1072: '锡', 1073: '丈', 1074: '耿', 1075: '宫', 1076: '翔', 1077: '符', 1078: '牡', 1079: '基', 1080: '涵', 1081: '陉', 1082: '军', 1083: '聂', 1084: '祥', 1085: '含', 1086: '治', 1087: '原', 1088: '永', 1089: '骅', 1090: '淄', 1091: '泸', 1092: '镜', 1093: '潞', 1094: '太', 1095: '溆', 1096: '忠', 1097: '姚', 1098: '牌', 1099: '邢', 1100: '黟', 1101: '台', 1102: '邹', 1103: '烈', 1104: '凌', 1105: '垫', 1106: '孚', 1107: '劝', 1108: '花', 1109: '泾', 1110: '埔', 1111: '藤', 1112: '拱', 1113: '长', 1114: '犍', 1115: '弓', 1116: '微', 1117: '荷', 1118: '圣', 1119: '荔', 1120: '车', 1121: '堂', 1122: '漾', 1123: '什', 1124: '澜', 1125: '寺', 1126: '尉', 1127: '煌', 1128: '邯', 1129: '桂', 1130: '灌', 1131: '湖', 1132: '邕', 1133: '旬', 1134: '维', 1135: '绵', 1136: '偃', 1137: '沛', 1138: '镇', 1139: '旧', 1140: '本', 1141: '嵩', 1142: '旺', 1143: '油', 1144: '屯', 1145: '远', 1146: '勒', 1147: '璧', 1148: '浚', 1149: '贺', 1150: '柱', 1151: '蓉', 1152: '戴', 1153: '涟', 1154: '荆', 1155: '勃', 1156: '乡', 1157: '乌', 1158: '定', 1159: '洼', 1160: '崖', 1161: '桥', 1162: '防', 1163: '巍', 1164: '悟', 1165: '末', 1166: '棠', 1167: '呈', 1168: '农', 1169: '融', 1170: '盖', 1171: '秦', 1172: '埇', 1173: '莞', 1174: '桦', 1175: '牟', 1176: '田', 1177: '霍', 1178: '葫', 1179: '唐', 1180: '增', 1181: '彦', 1182: '硕', 1183: '新', 1184: '鄂', 1185: '伟', 1186: '重', 1187: '内', 1188: '罕', 1189: '元', 1190: '沐', 1191: '周', 1192: '滕', 1193: '烟', 1194: '坎', 1195: '底', 1196: '箭', 1197: '墨', 1198: '宿', 1199: '会', 1200: '次', 1201: '甘', 1202: '思', 1203: '横', 1204: '温', 1205: '首', 1206: '商', 1207: '淅', 1208: '比', 1209: '赉', 1210: '居', 1211: '赛'}\n",
            "\n",
            "Dict len:  31\n",
            "{'#': 0, 'j': 1, 'd': 2, 'c': 3, 'l': 4, 'z': 5, 'o': 6, 'p': 7, 'b': 8, 's': 9, 'h': 10, 't': 11, 'n': 12, '-': 13, 'v': 14, ' ': 15, 'w': 16, 'x': 17, 'y': 18, \"'\": 19, 'q': 20, 'f': 21, 'm': 22, 'i': 23, 'g': 24, 'u': 25, '.': 26, 'k': 27, 'r': 28, 'e': 29, 'a': 30}\n",
            "\n",
            "Dict len:  31\n",
            "{0: '#', 1: 'j', 2: 'd', 3: 'c', 4: 'l', 5: 'z', 6: 'o', 7: 'p', 8: 'b', 9: 's', 10: 'h', 11: 't', 12: 'n', 13: '-', 14: 'v', 15: ' ', 16: 'w', 17: 'x', 18: 'y', 19: \"'\", 20: 'q', 21: 'f', 22: 'm', 23: 'i', 24: 'g', 25: 'u', 26: '.', 27: 'k', 28: 'r', 29: 'e', 30: 'a'}\n"
          ]
        }
      ],
      "source": [
        "# character to index cn\n",
        "ch_to_idx = {ch:idx for idx, ch in enumerate(vocab_tokens)}\n",
        "print('\\nDict len: ', len(ch_to_idx))\n",
        "print(ch_to_idx)\n",
        "\n",
        "# index to chracter cn\n",
        "idx_to_ch = {ch_to_idx[ch]:ch for ch in ch_to_idx.keys()}\n",
        "print('\\nDict len: ', len(idx_to_ch))\n",
        "print(idx_to_ch)\n",
        "\n",
        "# character to index us\n",
        "ch_to_idx2 = {ch:idx for idx, ch in enumerate(vocab_tokens2)}\n",
        "print('\\nDict len: ', len(ch_to_idx2))\n",
        "print(ch_to_idx2)\n",
        "\n",
        "# index to chracter us\n",
        "idx_to_ch2 = {ch_to_idx2[ch]:ch for ch in ch_to_idx2.keys()}\n",
        "print('\\nDict len: ', len(idx_to_ch2))\n",
        "print(idx_to_ch2)"
      ]
    },
    {
      "cell_type": "code",
      "execution_count": null,
      "metadata": {
        "id": "Avryng4jZkVg"
      },
      "outputs": [],
      "source": [
        "# Convert string names to matrix representation consisting of numerical indices\n",
        "# output shape: (m, Tx)\n",
        "def to_num_matrix(names, ch_to_idx):\n",
        "\n",
        "    max_len = max(map(len, names))\n",
        "    names_idx = np.zeros((len(names), max_len), dtype='int32')\n",
        "\n",
        "    for i, name in enumerate(names):\n",
        "        for j, ch in enumerate(name):\n",
        "            names_idx[i][j] = ch_to_idx[ch]\n",
        "\n",
        "    return names_idx"
      ]
    },
    {
      "cell_type": "code",
      "execution_count": null,
      "metadata": {
        "id": "scRd9ClObP8E",
        "colab": {
          "base_uri": "https://localhost:8080/"
        },
        "outputId": "52a165ea-c6c7-4306-b58f-7fcdbf9a4d43"
      },
      "outputs": [
        {
          "output_type": "stream",
          "name": "stdout",
          "text": [
            "Cncities:\n",
            "(2475, 5)\n",
            "(309, 5)\n",
            "(310, 4)\n",
            "\n",
            "Uscities:\n",
            "(2475, 27)\n",
            "(309, 24)\n",
            "(310, 22)\n"
          ]
        }
      ],
      "source": [
        "print(\"Cncities:\")\n",
        "print(to_num_matrix(cn_train, ch_to_idx).shape)\n",
        "print(to_num_matrix(cn_val, ch_to_idx).shape)\n",
        "print(to_num_matrix(cn_test, ch_to_idx).shape)\n",
        "print(\"\")\n",
        "print(\"Uscities:\")\n",
        "print(to_num_matrix(us_train, ch_to_idx2).shape)\n",
        "print(to_num_matrix(us_val, ch_to_idx2).shape)\n",
        "print(to_num_matrix(us_test, ch_to_idx2).shape)"
      ]
    },
    {
      "cell_type": "markdown",
      "metadata": {
        "id": "WdvYAu9sp3dA"
      },
      "source": [
        "## Model Training- cn\n",
        "**1. Build the model**"
      ]
    },
    {
      "cell_type": "code",
      "execution_count": null,
      "metadata": {
        "id": "OwrqLyd9ZVpG"
      },
      "outputs": [],
      "source": [
        "# for generating batches\n",
        "def generate_model_batches(names, batch_size=32, pad=0):\n",
        "    # no. of training examples\n",
        "    m = np.arange(len(names))\n",
        "\n",
        "    while True:\n",
        "        # get a shuffled index list\n",
        "        idx = np.random.permutation(m)\n",
        "\n",
        "        # start yeilding batches\n",
        "        for start in range(0, len(idx)-1, batch_size):\n",
        "            batch_idx = idx[start:start+batch_size]\n",
        "            batch_words = []\n",
        "\n",
        "            # take out the words and tags from 'batch_size' no. of training examples\n",
        "            for index in batch_idx:\n",
        "                batch_words.append(names[index])\n",
        "\n",
        "            # input x\n",
        "            batch_x = to_num_matrix(batch_words, ch_to_idx)\n",
        "\n",
        "            # output labels\n",
        "            batch_y_ohe = to_categorical(batch_x[:,1:], len(vocab_tokens))\n",
        "            yield batch_x[:,:-1], batch_y_ohe"
      ]
    },
    {
      "cell_type": "markdown",
      "metadata": {
        "id": "9_I6tQzOW2Oy"
      },
      "source": [
        "**2. Fitting the model with `GRU` blocks**"
      ]
    },
    {
      "cell_type": "code",
      "execution_count": null,
      "metadata": {
        "id": "xPucu1H9fT88"
      },
      "outputs": [],
      "source": [
        "checkpoint = ModelCheckpoint('drive/Colab Notebooks/best_weights.h5', verbose=1, save_best_only=True)"
      ]
    },
    {
      "cell_type": "code",
      "execution_count": null,
      "metadata": {
        "id": "fyGnDE78WL9m",
        "colab": {
          "base_uri": "https://localhost:8080/"
        },
        "outputId": "824ac5b0-e0f4-45fc-f81a-876d33b0ad5b"
      },
      "outputs": [
        {
          "output_type": "stream",
          "name": "stdout",
          "text": [
            "Model: \"sequential\"\n",
            "_________________________________________________________________\n",
            " Layer (type)                Output Shape              Param #   \n",
            "=================================================================\n",
            " embedding (Embedding)       (None, None, 20)          24240     \n",
            "                                                                 \n",
            " gru (GRU)                   (None, None, 128)         57600     \n",
            "                                                                 \n",
            " dropout (Dropout)           (None, None, 128)         0         \n",
            "                                                                 \n",
            " batch_normalization (Batch  (None, None, 128)         512       \n",
            " Normalization)                                                  \n",
            "                                                                 \n",
            " time_distributed (TimeDist  (None, None, 1212)        156348    \n",
            " ributed)                                                        \n",
            "                                                                 \n",
            "=================================================================\n",
            "Total params: 238700 (932.42 KB)\n",
            "Trainable params: 238444 (931.42 KB)\n",
            "Non-trainable params: 256 (1.00 KB)\n",
            "_________________________________________________________________\n"
          ]
        }
      ],
      "source": [
        "model = Sequential() # initializes a new Sequential model\n",
        "model.add(L.InputLayer([None], dtype='int32'))\n",
        "# Embeddings layer\n",
        "model.add(L.Embedding(len(vocab_tokens), 20)) # this layer turns positive integers (indexes) into dense vectors of fixed size\n",
        "\n",
        "# GRU layer\n",
        "model.add(L.GRU(128, return_sequences=True, activation='tanh')) # adds a GRU layer with 128 units\n",
        "model.add(L.Dropout(0.5)) # sets a fraction 0.5 of input units to 0 at each update during training time, which helps prevent overfitting\n",
        "model.add(L.BatchNormalization()) # normalizes the activations of the previous layer at each batch\n",
        "\n",
        "# Apply softmax\n",
        "model.add(L.TimeDistributed(L.Dense(len(vocab_tokens), activation='softmax')))\n",
        "# the layer above is a standard fully-connected neural network layer where each input node is connected to each output node\n",
        "\n",
        "model.summary()"
      ]
    },
    {
      "cell_type": "markdown",
      "source": [
        "**2. Train the model**"
      ],
      "metadata": {
        "id": "pPdLG3kxF9rh"
      }
    },
    {
      "cell_type": "code",
      "execution_count": null,
      "metadata": {
        "id": "G-J3u8xyX2JO",
        "colab": {
          "base_uri": "https://localhost:8080/"
        },
        "outputId": "f63eb526-20c8-408f-bdc6-b1a20c149e98"
      },
      "outputs": [
        {
          "output_type": "stream",
          "name": "stdout",
          "text": [
            "Epoch 1/50\n"
          ]
        },
        {
          "output_type": "stream",
          "name": "stderr",
          "text": [
            "<ipython-input-16-1c85b4caa099>:8: UserWarning: `Model.fit_generator` is deprecated and will be removed in a future version. Please use `Model.fit`, which supports generators.\n",
            "  hist = model.fit_generator(generate_model_batches(cn_train, batch_size=BATCH_SIZE), steps_per_epoch=len(cn_train)/BATCH_SIZE, epochs=50)\n"
          ]
        },
        {
          "output_type": "stream",
          "name": "stdout",
          "text": [
            "9/9 [==============================] - 8s 167ms/step - loss: 6.9797 - accuracy: 0.0930\n",
            "Epoch 2/50\n",
            "9/9 [==============================] - 1s 113ms/step - loss: 6.5113 - accuracy: 0.3144\n",
            "Epoch 3/50\n",
            "9/9 [==============================] - 1s 94ms/step - loss: 5.8869 - accuracy: 0.3600\n",
            "Epoch 4/50\n",
            "9/9 [==============================] - 1s 95ms/step - loss: 5.3862 - accuracy: 0.3627\n",
            "Epoch 5/50\n",
            "9/9 [==============================] - 0s 41ms/step - loss: 5.0364 - accuracy: 0.3786\n",
            "Epoch 6/50\n",
            "9/9 [==============================] - 1s 113ms/step - loss: 4.7672 - accuracy: 0.4351\n",
            "Epoch 7/50\n",
            "9/9 [==============================] - 0s 41ms/step - loss: 4.3953 - accuracy: 0.4880\n",
            "Epoch 8/50\n",
            "9/9 [==============================] - 0s 7ms/step - loss: 3.9984 - accuracy: 0.5668\n",
            "Epoch 9/50\n",
            "9/9 [==============================] - 0s 42ms/step - loss: 3.5246 - accuracy: 0.6187\n",
            "Epoch 10/50\n",
            "9/9 [==============================] - 1s 59ms/step - loss: 3.0859 - accuracy: 0.6379\n",
            "Epoch 11/50\n",
            "9/9 [==============================] - 0s 43ms/step - loss: 2.7795 - accuracy: 0.6589\n",
            "Epoch 12/50\n",
            "9/9 [==============================] - 0s 7ms/step - loss: 2.5159 - accuracy: 0.6661\n",
            "Epoch 13/50\n",
            "9/9 [==============================] - 1s 59ms/step - loss: 2.3524 - accuracy: 0.6700\n",
            "Epoch 14/50\n",
            "9/9 [==============================] - 0s 42ms/step - loss: 2.2209 - accuracy: 0.6740\n",
            "Epoch 15/50\n",
            "9/9 [==============================] - 0s 25ms/step - loss: 2.1411 - accuracy: 0.6775\n",
            "Epoch 16/50\n",
            "9/9 [==============================] - 0s 42ms/step - loss: 2.1267 - accuracy: 0.6668\n",
            "Epoch 17/50\n",
            "9/9 [==============================] - 0s 44ms/step - loss: 2.0611 - accuracy: 0.6748\n",
            "Epoch 18/50\n",
            "9/9 [==============================] - 0s 25ms/step - loss: 2.0287 - accuracy: 0.6763\n",
            "Epoch 19/50\n",
            "9/9 [==============================] - 0s 7ms/step - loss: 2.0164 - accuracy: 0.6766\n",
            "Epoch 20/50\n",
            "9/9 [==============================] - 0s 42ms/step - loss: 1.9880 - accuracy: 0.6768\n",
            "Epoch 21/50\n",
            "9/9 [==============================] - 0s 7ms/step - loss: 1.9803 - accuracy: 0.6768\n",
            "Epoch 22/50\n",
            "9/9 [==============================] - 0s 7ms/step - loss: 2.0358 - accuracy: 0.6694\n",
            "Epoch 23/50\n",
            "9/9 [==============================] - 0s 7ms/step - loss: 1.9448 - accuracy: 0.6784\n",
            "Epoch 24/50\n",
            "9/9 [==============================] - 0s 43ms/step - loss: 1.9788 - accuracy: 0.6695\n",
            "Epoch 25/50\n",
            "9/9 [==============================] - 0s 24ms/step - loss: 1.9349 - accuracy: 0.6727\n",
            "Epoch 26/50\n",
            "9/9 [==============================] - 0s 24ms/step - loss: 2.0319 - accuracy: 0.6608\n",
            "Epoch 27/50\n",
            "9/9 [==============================] - 0s 25ms/step - loss: 1.9437 - accuracy: 0.6681\n",
            "Epoch 28/50\n",
            "9/9 [==============================] - 0s 7ms/step - loss: 1.8855 - accuracy: 0.6795\n",
            "Epoch 29/50\n",
            "9/9 [==============================] - 0s 24ms/step - loss: 1.8714 - accuracy: 0.6802\n",
            "Epoch 30/50\n",
            "9/9 [==============================] - 0s 7ms/step - loss: 1.8604 - accuracy: 0.6818\n",
            "Epoch 31/50\n",
            "9/9 [==============================] - 0s 25ms/step - loss: 1.8912 - accuracy: 0.6703\n",
            "Epoch 32/50\n",
            "9/9 [==============================] - 0s 43ms/step - loss: 1.8289 - accuracy: 0.6828\n",
            "Epoch 33/50\n",
            "9/9 [==============================] - 0s 25ms/step - loss: 1.8888 - accuracy: 0.6680\n",
            "Epoch 34/50\n",
            "9/9 [==============================] - 0s 7ms/step - loss: 1.8272 - accuracy: 0.6785\n",
            "Epoch 35/50\n",
            "9/9 [==============================] - 0s 24ms/step - loss: 1.8455 - accuracy: 0.6741\n",
            "Epoch 36/50\n",
            "9/9 [==============================] - 0s 24ms/step - loss: 1.7868 - accuracy: 0.6828\n",
            "Epoch 37/50\n",
            "9/9 [==============================] - 0s 7ms/step - loss: 1.7789 - accuracy: 0.6851\n",
            "Epoch 38/50\n",
            "9/9 [==============================] - 0s 7ms/step - loss: 1.7650 - accuracy: 0.6886\n",
            "Epoch 39/50\n",
            "9/9 [==============================] - 0s 7ms/step - loss: 1.7895 - accuracy: 0.6785\n",
            "Epoch 40/50\n",
            "9/9 [==============================] - 0s 41ms/step - loss: 1.7245 - accuracy: 0.6900\n",
            "Epoch 41/50\n",
            "9/9 [==============================] - 0s 24ms/step - loss: 1.7143 - accuracy: 0.6910\n",
            "Epoch 42/50\n",
            "9/9 [==============================] - 0s 25ms/step - loss: 1.6866 - accuracy: 0.6971\n",
            "Epoch 43/50\n",
            "9/9 [==============================] - 0s 7ms/step - loss: 1.6687 - accuracy: 0.6979\n",
            "Epoch 44/50\n",
            "9/9 [==============================] - 0s 7ms/step - loss: 1.6501 - accuracy: 0.7030\n",
            "Epoch 45/50\n",
            "9/9 [==============================] - 0s 7ms/step - loss: 1.6284 - accuracy: 0.7046\n",
            "Epoch 46/50\n",
            "9/9 [==============================] - 0s 7ms/step - loss: 1.6375 - accuracy: 0.7018\n",
            "Epoch 47/50\n",
            "9/9 [==============================] - 0s 7ms/step - loss: 1.5782 - accuracy: 0.7113\n",
            "Epoch 48/50\n",
            "9/9 [==============================] - 0s 25ms/step - loss: 1.7218 - accuracy: 0.6970\n",
            "Epoch 49/50\n",
            "9/9 [==============================] - 0s 7ms/step - loss: 1.5545 - accuracy: 0.7110\n",
            "Epoch 50/50\n",
            "9/9 [==============================] - 0s 24ms/step - loss: 1.5211 - accuracy: 0.7131\n"
          ]
        }
      ],
      "source": [
        "BATCH_SIZE = 256\n",
        "\n",
        "# select optimizer\n",
        "optimizer = keras.optimizers.Adam(clipvalue=1.2)\n",
        "model.compile(optimizer, loss='categorical_crossentropy', metrics=['accuracy'])\n",
        "\n",
        "# train model\n",
        "hist = model.fit_generator(generate_model_batches(cn_train, batch_size=BATCH_SIZE), steps_per_epoch=len(cn_train)/BATCH_SIZE, epochs=50)"
      ]
    },
    {
      "cell_type": "code",
      "execution_count": null,
      "metadata": {
        "id": "U2QLbwF589Vi",
        "colab": {
          "base_uri": "https://localhost:8080/",
          "height": 296
        },
        "outputId": "e047b234-2cbe-4c33-f905-d946389495ae"
      },
      "outputs": [
        {
          "output_type": "stream",
          "name": "stdout",
          "text": [
            "\n"
          ]
        },
        {
          "output_type": "display_data",
          "data": {
            "text/plain": [
              "<Figure size 400x250 with 1 Axes>"
            ],
            "image/png": "[encoded data removed]"
          },
          "metadata": {}
        }
      ],
      "source": [
        "# loss plot\n",
        "plt.figure(figsize=(4,2.5))\n",
        "plt.subplot(1,1,1)\n",
        "plt.suptitle('Optimizer: Adam', fontsize=10)\n",
        "plt.ylabel('Loss', fontsize=13)\n",
        "plt.plot(hist.history['loss'], color='b', label='Training Loss')\n",
        "plt.legend(loc='upper right')\n",
        "print(\"\")"
      ]
    },
    {
      "cell_type": "markdown",
      "source": [
        "# Model Training- us"
      ],
      "metadata": {
        "id": "h7EejcA6lCUS"
      }
    },
    {
      "cell_type": "code",
      "source": [
        "# for generating batches\n",
        "def generate_model_batches2(names, batch_size=32, pad=0):\n",
        "    # no. of training examples\n",
        "    m = np.arange(len(names))\n",
        "\n",
        "    while True:\n",
        "        # get a shuffled index list\n",
        "        idx = np.random.permutation(m)\n",
        "\n",
        "        # start yeilding batches\n",
        "        for start in range(0, len(idx)-1, batch_size):\n",
        "            batch_idx = idx[start:start+batch_size]\n",
        "            batch_words = []\n",
        "\n",
        "            # take out the words and tags from 'batch_size' no. of training examples\n",
        "            for index in batch_idx:\n",
        "                batch_words.append(names[index])\n",
        "\n",
        "            # input x\n",
        "            batch_x = to_num_matrix(batch_words, ch_to_idx2)\n",
        "\n",
        "            # output labels\n",
        "            batch_y_ohe = to_categorical(batch_x[:,1:], len(vocab_tokens2))\n",
        "            yield batch_x[:,:-1], batch_y_ohe"
      ],
      "metadata": {
        "id": "zCVk2KeWotE8"
      },
      "execution_count": null,
      "outputs": []
    },
    {
      "cell_type": "code",
      "source": [
        "model2 = Sequential() # initializes a new Sequential model\n",
        "model2.add(L.InputLayer([None], dtype='int32'))\n",
        "# Embeddings layer\n",
        "model2.add(L.Embedding(len(vocab_tokens2), 20)) # this layer turns positive integers (indexes) into dense vectors of fixed size\n",
        "\n",
        "# GRU layer\n",
        "model2.add(L.GRU(128, return_sequences=True, activation='tanh')) # adds a GRU layer with 128 units\n",
        "model2.add(L.Dropout(0.5)) # sets a fraction 0.5 of input units to 0 at each update during training time, which helps prevent overfitting\n",
        "model2.add(L.BatchNormalization()) # normalizes the activations of the previous layer at each batch\n",
        "\n",
        "# Apply softmax\n",
        "model2.add(L.TimeDistributed(L.Dense(len(vocab_tokens2), activation='softmax')))\n",
        "# the layer above is a standard fully-connected neural network layer where each input node is connected to each output node\n",
        "\n",
        "model2.summary()\n",
        "\n",
        "# select optimizer\n",
        "optimizer = keras.optimizers.Adam(clipvalue=1.2)\n",
        "model2.compile(optimizer, loss='categorical_crossentropy', metrics=['accuracy'])\n",
        "\n",
        "# train model\n",
        "hist2 = model2.fit_generator(generate_model_batches2(us_train, batch_size=BATCH_SIZE), steps_per_epoch=len(us_train)/BATCH_SIZE, epochs=80)"
      ],
      "metadata": {
        "colab": {
          "base_uri": "https://localhost:8080/"
        },
        "id": "Yj46tgP7kUzE",
        "outputId": "0b97bc8c-8e41-4f3c-893d-55812bb73532"
      },
      "execution_count": null,
      "outputs": [
        {
          "output_type": "stream",
          "name": "stdout",
          "text": [
            "Model: \"sequential_4\"\n",
            "_________________________________________________________________\n",
            " Layer (type)                Output Shape              Param #   \n",
            "=================================================================\n",
            " embedding_4 (Embedding)     (None, None, 20)          620       \n",
            "                                                                 \n",
            " gru_4 (GRU)                 (None, None, 128)         57600     \n",
            "                                                                 \n",
            " dropout_4 (Dropout)         (None, None, 128)         0         \n",
            "                                                                 \n",
            " batch_normalization_4 (Bat  (None, None, 128)         512       \n",
            " chNormalization)                                                \n",
            "                                                                 \n",
            " time_distributed_4 (TimeDi  (None, None, 31)          3999      \n",
            " stributed)                                                      \n",
            "                                                                 \n",
            "=================================================================\n",
            "Total params: 62731 (245.04 KB)\n",
            "Trainable params: 62475 (244.04 KB)\n",
            "Non-trainable params: 256 (1.00 KB)\n",
            "_________________________________________________________________\n",
            "Epoch 1/80\n"
          ]
        },
        {
          "output_type": "stream",
          "name": "stderr",
          "text": [
            "<ipython-input-41-975af59841b3>:22: UserWarning: `Model.fit_generator` is deprecated and will be removed in a future version. Please use `Model.fit`, which supports generators.\n",
            "  hist2 = model2.fit_generator(generate_model_batches2(us_train, batch_size=BATCH_SIZE), steps_per_epoch=len(us_train)/BATCH_SIZE, epochs=80)\n"
          ]
        },
        {
          "output_type": "stream",
          "name": "stdout",
          "text": [
            "9/9 [==============================] - 3s 38ms/step - loss: 3.1733 - accuracy: 0.2090\n",
            "Epoch 2/80\n",
            "9/9 [==============================] - 0s 6ms/step - loss: 2.4509 - accuracy: 0.4414\n",
            "Epoch 3/80\n",
            "9/9 [==============================] - 0s 6ms/step - loss: 2.1363 - accuracy: 0.4865\n",
            "Epoch 4/80\n",
            "9/9 [==============================] - 0s 16ms/step - loss: 1.8678 - accuracy: 0.5528\n",
            "Epoch 5/80\n",
            "9/9 [==============================] - 0s 6ms/step - loss: 1.6863 - accuracy: 0.5826\n",
            "Epoch 6/80\n",
            "9/9 [==============================] - 0s 6ms/step - loss: 1.5775 - accuracy: 0.5952\n",
            "Epoch 7/80\n",
            "9/9 [==============================] - 0s 6ms/step - loss: 1.4968 - accuracy: 0.6137\n",
            "Epoch 8/80\n",
            "9/9 [==============================] - 0s 6ms/step - loss: 1.4327 - accuracy: 0.6257\n",
            "Epoch 9/80\n",
            "9/9 [==============================] - 0s 7ms/step - loss: 1.4019 - accuracy: 0.6273\n",
            "Epoch 10/80\n",
            "9/9 [==============================] - 0s 6ms/step - loss: 1.3536 - accuracy: 0.6341\n",
            "Epoch 11/80\n",
            "9/9 [==============================] - 0s 6ms/step - loss: 1.3404 - accuracy: 0.6360\n",
            "Epoch 12/80\n",
            "9/9 [==============================] - 0s 6ms/step - loss: 1.3353 - accuracy: 0.6337\n",
            "Epoch 13/80\n",
            "9/9 [==============================] - 0s 6ms/step - loss: 1.3061 - accuracy: 0.6378\n",
            "Epoch 14/80\n",
            "9/9 [==============================] - 0s 6ms/step - loss: 1.2670 - accuracy: 0.6459\n",
            "Epoch 15/80\n",
            "9/9 [==============================] - 0s 6ms/step - loss: 1.2399 - accuracy: 0.6505\n",
            "Epoch 16/80\n",
            "9/9 [==============================] - 0s 6ms/step - loss: 1.2708 - accuracy: 0.6439\n",
            "Epoch 17/80\n",
            "9/9 [==============================] - 0s 6ms/step - loss: 1.2436 - accuracy: 0.6468\n",
            "Epoch 18/80\n",
            "9/9 [==============================] - 0s 6ms/step - loss: 1.2117 - accuracy: 0.6561\n",
            "Epoch 19/80\n",
            "9/9 [==============================] - 0s 6ms/step - loss: 1.1959 - accuracy: 0.6607\n",
            "Epoch 20/80\n",
            "9/9 [==============================] - 0s 6ms/step - loss: 1.2129 - accuracy: 0.6551\n",
            "Epoch 21/80\n",
            "9/9 [==============================] - 0s 6ms/step - loss: 1.1872 - accuracy: 0.6600\n",
            "Epoch 22/80\n",
            "9/9 [==============================] - 0s 6ms/step - loss: 1.1656 - accuracy: 0.6659\n",
            "Epoch 23/80\n",
            "9/9 [==============================] - 0s 6ms/step - loss: 1.1818 - accuracy: 0.6633\n",
            "Epoch 24/80\n",
            "9/9 [==============================] - 0s 6ms/step - loss: 1.1820 - accuracy: 0.6596\n",
            "Epoch 25/80\n",
            "9/9 [==============================] - 0s 6ms/step - loss: 1.2116 - accuracy: 0.6500\n",
            "Epoch 26/80\n",
            "9/9 [==============================] - 0s 8ms/step - loss: 1.1303 - accuracy: 0.6724\n",
            "Epoch 27/80\n",
            "9/9 [==============================] - 0s 6ms/step - loss: 1.1499 - accuracy: 0.6677\n",
            "Epoch 28/80\n",
            "9/9 [==============================] - 0s 6ms/step - loss: 1.1296 - accuracy: 0.6716\n",
            "Epoch 29/80\n",
            "9/9 [==============================] - 0s 6ms/step - loss: 1.1411 - accuracy: 0.6701\n",
            "Epoch 30/80\n",
            "9/9 [==============================] - 0s 6ms/step - loss: 1.1600 - accuracy: 0.6641\n",
            "Epoch 31/80\n",
            "9/9 [==============================] - 0s 6ms/step - loss: 1.1063 - accuracy: 0.6765\n",
            "Epoch 32/80\n",
            "9/9 [==============================] - 0s 6ms/step - loss: 1.1317 - accuracy: 0.6688\n",
            "Epoch 33/80\n",
            "9/9 [==============================] - 0s 6ms/step - loss: 1.1594 - accuracy: 0.6611\n",
            "Epoch 34/80\n",
            "9/9 [==============================] - 0s 6ms/step - loss: 1.1036 - accuracy: 0.6768\n",
            "Epoch 35/80\n",
            "9/9 [==============================] - 0s 6ms/step - loss: 1.1082 - accuracy: 0.6768\n",
            "Epoch 36/80\n",
            "9/9 [==============================] - 0s 6ms/step - loss: 1.0937 - accuracy: 0.6805\n",
            "Epoch 37/80\n",
            "9/9 [==============================] - 0s 6ms/step - loss: 1.0993 - accuracy: 0.6788\n",
            "Epoch 38/80\n",
            "9/9 [==============================] - 0s 6ms/step - loss: 1.1191 - accuracy: 0.6711\n",
            "Epoch 39/80\n",
            "9/9 [==============================] - 0s 6ms/step - loss: 1.0937 - accuracy: 0.6788\n",
            "Epoch 40/80\n",
            "9/9 [==============================] - 0s 6ms/step - loss: 1.1159 - accuracy: 0.6721\n",
            "Epoch 41/80\n",
            "9/9 [==============================] - 0s 6ms/step - loss: 1.1060 - accuracy: 0.6766\n",
            "Epoch 42/80\n",
            "9/9 [==============================] - 0s 6ms/step - loss: 1.0697 - accuracy: 0.6856\n",
            "Epoch 43/80\n",
            "9/9 [==============================] - 0s 6ms/step - loss: 1.1348 - accuracy: 0.6680\n",
            "Epoch 44/80\n",
            "9/9 [==============================] - 0s 6ms/step - loss: 1.0807 - accuracy: 0.6819\n",
            "Epoch 45/80\n",
            "9/9 [==============================] - 0s 6ms/step - loss: 1.0942 - accuracy: 0.6787\n",
            "Epoch 46/80\n",
            "9/9 [==============================] - 0s 6ms/step - loss: 1.0916 - accuracy: 0.6808\n",
            "Epoch 47/80\n",
            "9/9 [==============================] - 0s 6ms/step - loss: 1.1046 - accuracy: 0.6751\n",
            "Epoch 48/80\n",
            "9/9 [==============================] - 0s 6ms/step - loss: 1.0751 - accuracy: 0.6844\n",
            "Epoch 49/80\n",
            "9/9 [==============================] - 0s 6ms/step - loss: 1.1067 - accuracy: 0.6737\n",
            "Epoch 50/80\n",
            "9/9 [==============================] - 0s 6ms/step - loss: 1.0587 - accuracy: 0.6883\n",
            "Epoch 51/80\n",
            "9/9 [==============================] - 0s 6ms/step - loss: 1.0839 - accuracy: 0.6808\n",
            "Epoch 52/80\n",
            "9/9 [==============================] - 0s 6ms/step - loss: 1.1048 - accuracy: 0.6743\n",
            "Epoch 53/80\n",
            "9/9 [==============================] - 0s 6ms/step - loss: 1.1168 - accuracy: 0.6703\n",
            "Epoch 54/80\n",
            "9/9 [==============================] - 0s 6ms/step - loss: 1.0863 - accuracy: 0.6796\n",
            "Epoch 55/80\n",
            "9/9 [==============================] - 0s 6ms/step - loss: 1.1041 - accuracy: 0.6759\n",
            "Epoch 56/80\n",
            "9/9 [==============================] - 0s 6ms/step - loss: 1.1379 - accuracy: 0.6645\n",
            "Epoch 57/80\n",
            "9/9 [==============================] - 0s 6ms/step - loss: 1.0799 - accuracy: 0.6824\n",
            "Epoch 58/80\n",
            "9/9 [==============================] - 0s 6ms/step - loss: 1.0908 - accuracy: 0.6793\n",
            "Epoch 59/80\n",
            "9/9 [==============================] - 0s 6ms/step - loss: 1.1070 - accuracy: 0.6733\n",
            "Epoch 60/80\n",
            "9/9 [==============================] - 0s 6ms/step - loss: 1.0483 - accuracy: 0.6915\n",
            "Epoch 61/80\n",
            "9/9 [==============================] - 0s 6ms/step - loss: 1.0676 - accuracy: 0.6870\n",
            "Epoch 62/80\n",
            "9/9 [==============================] - 0s 6ms/step - loss: 1.0748 - accuracy: 0.6829\n",
            "Epoch 63/80\n",
            "9/9 [==============================] - 0s 6ms/step - loss: 1.0508 - accuracy: 0.6918\n",
            "Epoch 64/80\n",
            "9/9 [==============================] - 0s 6ms/step - loss: 1.0556 - accuracy: 0.6891\n",
            "Epoch 65/80\n",
            "9/9 [==============================] - 0s 6ms/step - loss: 1.0659 - accuracy: 0.6839\n",
            "Epoch 66/80\n",
            "9/9 [==============================] - 0s 6ms/step - loss: 1.0480 - accuracy: 0.6916\n",
            "Epoch 67/80\n",
            "9/9 [==============================] - 0s 6ms/step - loss: 1.0696 - accuracy: 0.6864\n",
            "Epoch 68/80\n",
            "9/9 [==============================] - 0s 6ms/step - loss: 1.0728 - accuracy: 0.6831\n",
            "Epoch 69/80\n",
            "9/9 [==============================] - 0s 6ms/step - loss: 1.0470 - accuracy: 0.6897\n",
            "Epoch 70/80\n",
            "9/9 [==============================] - 0s 6ms/step - loss: 1.0693 - accuracy: 0.6866\n",
            "Epoch 71/80\n",
            "9/9 [==============================] - 0s 6ms/step - loss: 1.0572 - accuracy: 0.6911\n",
            "Epoch 72/80\n",
            "9/9 [==============================] - 0s 6ms/step - loss: 1.0861 - accuracy: 0.6824\n",
            "Epoch 73/80\n",
            "9/9 [==============================] - 0s 6ms/step - loss: 1.0453 - accuracy: 0.6925\n",
            "Epoch 74/80\n",
            "9/9 [==============================] - 0s 6ms/step - loss: 1.0492 - accuracy: 0.6909\n",
            "Epoch 75/80\n",
            "9/9 [==============================] - 0s 6ms/step - loss: 1.0305 - accuracy: 0.6949\n",
            "Epoch 76/80\n",
            "9/9 [==============================] - 0s 6ms/step - loss: 1.0624 - accuracy: 0.6855\n",
            "Epoch 77/80\n",
            "9/9 [==============================] - 0s 6ms/step - loss: 1.0264 - accuracy: 0.6966\n",
            "Epoch 78/80\n",
            "9/9 [==============================] - 0s 6ms/step - loss: 1.0529 - accuracy: 0.6905\n",
            "Epoch 79/80\n",
            "9/9 [==============================] - 0s 6ms/step - loss: 1.0808 - accuracy: 0.6824\n",
            "Epoch 80/80\n",
            "9/9 [==============================] - 0s 6ms/step - loss: 1.0547 - accuracy: 0.6885\n"
          ]
        }
      ]
    },
    {
      "cell_type": "code",
      "source": [
        "# loss plot\n",
        "plt.figure(figsize=(4,2.5))\n",
        "plt.subplot(1,1,1)\n",
        "plt.suptitle('Optimizer: Adam', fontsize=10)\n",
        "plt.ylabel('Loss', fontsize=13)\n",
        "plt.plot(hist2.history['loss'], color='b', label='Training Loss')\n",
        "plt.legend(loc='upper right')\n",
        "print(\"\")"
      ],
      "metadata": {
        "colab": {
          "base_uri": "https://localhost:8080/",
          "height": 296
        },
        "id": "8kwYrIq7qL7M",
        "outputId": "1f80ecea-a843-44c3-8ce6-4b98d0c791c9"
      },
      "execution_count": null,
      "outputs": [
        {
          "output_type": "stream",
          "name": "stdout",
          "text": [
            "\n"
          ]
        },
        {
          "output_type": "display_data",
          "data": {
            "text/plain": [
              "<Figure size 400x250 with 1 Axes>"
            ],
            "image/png": "[encoded data removed]"
          },
          "metadata": {}
        }
      ]
    },
    {
      "cell_type": "markdown",
      "source": [
        "# Model Evaluation"
      ],
      "metadata": {
        "id": "pjEAfE5hGx1S"
      }
    },
    {
      "cell_type": "code",
      "source": [
        "# val\n",
        "val1 = model.fit_generator(generate_model_batches(cn_val, batch_size=BATCH_SIZE), steps_per_epoch=len(cn_val)/BATCH_SIZE, epochs=50)"
      ],
      "metadata": {
        "colab": {
          "base_uri": "https://localhost:8080/"
        },
        "id": "d8rWbLhDrVmS",
        "outputId": "20712064-572e-4d96-a095-4ae207cb56e6"
      },
      "execution_count": null,
      "outputs": [
        {
          "output_type": "stream",
          "name": "stdout",
          "text": [
            "Epoch 1/50\n",
            "1/1 [==============================] - 0s 43ms/step - loss: 0.3167 - accuracy: 0.9062\n",
            "Epoch 2/50\n",
            "1/1 [==============================] - 0s 39ms/step - loss: 0.3035 - accuracy: 0.9104\n",
            "Epoch 3/50\n",
            "1/1 [==============================] - 0s 40ms/step - loss: 0.3009 - accuracy: 0.9079\n",
            "Epoch 4/50\n",
            "1/1 [==============================] - 0s 39ms/step - loss: 0.3089 - accuracy: 0.9053\n",
            "Epoch 5/50\n",
            "1/1 [==============================] - 0s 37ms/step - loss: 0.3031 - accuracy: 0.9062\n",
            "Epoch 6/50\n",
            "1/1 [==============================] - 0s 37ms/step - loss: 0.3587 - accuracy: 0.9044\n"
          ]
        },
        {
          "output_type": "stream",
          "name": "stderr",
          "text": [
            "<ipython-input-37-3fe884616f49>:2: UserWarning: `Model.fit_generator` is deprecated and will be removed in a future version. Please use `Model.fit`, which supports generators.\n",
            "  val1 = model.fit_generator(generate_model_batches(cn_val, batch_size=BATCH_SIZE), steps_per_epoch=len(cn_val)/BATCH_SIZE, epochs=50)\n"
          ]
        },
        {
          "output_type": "stream",
          "name": "stdout",
          "text": [
            "Epoch 7/50\n",
            "1/1 [==============================] - 0s 37ms/step - loss: 0.3107 - accuracy: 0.9115\n",
            "Epoch 8/50\n",
            "1/1 [==============================] - 0s 38ms/step - loss: 0.2711 - accuracy: 0.9172\n",
            "Epoch 9/50\n",
            "1/1 [==============================] - 0s 39ms/step - loss: 0.3249 - accuracy: 0.9115\n",
            "Epoch 10/50\n",
            "1/1 [==============================] - 0s 38ms/step - loss: 0.2609 - accuracy: 0.9138\n",
            "Epoch 11/50\n",
            "1/1 [==============================] - 0s 38ms/step - loss: 0.2628 - accuracy: 0.9138\n",
            "Epoch 12/50\n",
            "1/1 [==============================] - 0s 39ms/step - loss: 0.2482 - accuracy: 0.9146\n",
            "Epoch 13/50\n",
            "1/1 [==============================] - 0s 38ms/step - loss: 0.2395 - accuracy: 0.9222\n",
            "Epoch 14/50\n",
            "1/1 [==============================] - 0s 40ms/step - loss: 0.2454 - accuracy: 0.9155\n",
            "Epoch 15/50\n",
            "1/1 [==============================] - 0s 37ms/step - loss: 0.2357 - accuracy: 0.9214\n",
            "Epoch 16/50\n",
            "1/1 [==============================] - 0s 40ms/step - loss: 0.2787 - accuracy: 0.9150\n",
            "Epoch 17/50\n",
            "1/1 [==============================] - 0s 40ms/step - loss: 0.2405 - accuracy: 0.9129\n",
            "Epoch 18/50\n",
            "1/1 [==============================] - 0s 44ms/step - loss: 0.2828 - accuracy: 0.9106\n",
            "Epoch 19/50\n",
            "1/1 [==============================] - 0s 38ms/step - loss: 0.2487 - accuracy: 0.9121\n",
            "Epoch 20/50\n",
            "1/1 [==============================] - 0s 39ms/step - loss: 0.2395 - accuracy: 0.9197\n",
            "Epoch 21/50\n",
            "1/1 [==============================] - 0s 40ms/step - loss: 0.2464 - accuracy: 0.9205\n",
            "Epoch 22/50\n",
            "1/1 [==============================] - 0s 39ms/step - loss: 0.2752 - accuracy: 0.9133\n",
            "Epoch 23/50\n",
            "1/1 [==============================] - 0s 38ms/step - loss: 0.2667 - accuracy: 0.9159\n",
            "Epoch 24/50\n",
            "1/1 [==============================] - 0s 37ms/step - loss: 0.2326 - accuracy: 0.9189\n",
            "Epoch 25/50\n",
            "1/1 [==============================] - 0s 38ms/step - loss: 0.2319 - accuracy: 0.9112\n",
            "Epoch 26/50\n",
            "1/1 [==============================] - 0s 38ms/step - loss: 0.2302 - accuracy: 0.9104\n",
            "Epoch 27/50\n",
            "1/1 [==============================] - 0s 39ms/step - loss: 0.2160 - accuracy: 0.9180\n",
            "Epoch 28/50\n",
            "1/1 [==============================] - 0s 38ms/step - loss: 0.2157 - accuracy: 0.9222\n",
            "Epoch 29/50\n",
            "1/1 [==============================] - 0s 39ms/step - loss: 0.2112 - accuracy: 0.9214\n",
            "Epoch 30/50\n",
            "1/1 [==============================] - 0s 38ms/step - loss: 0.2187 - accuracy: 0.9138\n",
            "Epoch 31/50\n",
            "1/1 [==============================] - 0s 43ms/step - loss: 0.2194 - accuracy: 0.9290\n",
            "Epoch 32/50\n",
            "1/1 [==============================] - 0s 41ms/step - loss: 0.2068 - accuracy: 0.9189\n",
            "Epoch 33/50\n",
            "1/1 [==============================] - 0s 38ms/step - loss: 0.2093 - accuracy: 0.9231\n",
            "Epoch 34/50\n",
            "1/1 [==============================] - 0s 38ms/step - loss: 0.2654 - accuracy: 0.9020\n",
            "Epoch 35/50\n",
            "1/1 [==============================] - 0s 37ms/step - loss: 0.2051 - accuracy: 0.9214\n",
            "Epoch 36/50\n",
            "1/1 [==============================] - 0s 37ms/step - loss: 0.2149 - accuracy: 0.9172\n",
            "Epoch 37/50\n",
            "1/1 [==============================] - 0s 38ms/step - loss: 0.2715 - accuracy: 0.9010\n",
            "Epoch 38/50\n",
            "1/1 [==============================] - 0s 37ms/step - loss: 0.2692 - accuracy: 0.9051\n",
            "Epoch 39/50\n",
            "1/1 [==============================] - 0s 38ms/step - loss: 0.2628 - accuracy: 0.9061\n",
            "Epoch 40/50\n",
            "1/1 [==============================] - 0s 41ms/step - loss: 0.2637 - accuracy: 0.8980\n",
            "Epoch 41/50\n",
            "1/1 [==============================] - 0s 39ms/step - loss: 0.2042 - accuracy: 0.9256\n",
            "Epoch 42/50\n",
            "1/1 [==============================] - 0s 38ms/step - loss: 0.2081 - accuracy: 0.9239\n",
            "Epoch 43/50\n",
            "1/1 [==============================] - 0s 37ms/step - loss: 0.2131 - accuracy: 0.9180\n",
            "Epoch 44/50\n",
            "1/1 [==============================] - 0s 39ms/step - loss: 0.2459 - accuracy: 0.9031\n",
            "Epoch 45/50\n",
            "1/1 [==============================] - 0s 39ms/step - loss: 0.2093 - accuracy: 0.9231\n",
            "Epoch 46/50\n",
            "1/1 [==============================] - 0s 37ms/step - loss: 0.2120 - accuracy: 0.9087\n",
            "Epoch 47/50\n",
            "1/1 [==============================] - 0s 38ms/step - loss: 0.2430 - accuracy: 0.9097\n",
            "Epoch 48/50\n",
            "1/1 [==============================] - 0s 39ms/step - loss: 0.2076 - accuracy: 0.9172\n",
            "Epoch 49/50\n",
            "1/1 [==============================] - 0s 38ms/step - loss: 0.2036 - accuracy: 0.9146\n",
            "Epoch 50/50\n",
            "1/1 [==============================] - 0s 40ms/step - loss: 0.2046 - accuracy: 0.9239\n"
          ]
        }
      ]
    },
    {
      "cell_type": "code",
      "source": [
        "# test\n",
        "val2 = model.fit_generator(generate_model_batches(cn_test, batch_size=BATCH_SIZE), steps_per_epoch=len(cn_test)/BATCH_SIZE, epochs=50)"
      ],
      "metadata": {
        "colab": {
          "base_uri": "https://localhost:8080/"
        },
        "id": "7od9acOqrU2X",
        "outputId": "95e927ae-6a48-4e07-ce3b-22434939f127"
      },
      "execution_count": null,
      "outputs": [
        {
          "output_type": "stream",
          "name": "stdout",
          "text": [
            "Epoch 1/50\n",
            "1/1 [==============================] - 0s 46ms/step - loss: 1.2532 - accuracy: 0.7559\n",
            "Epoch 2/50\n",
            "1/1 [==============================] - 0s 42ms/step - loss: 1.2038 - accuracy: 0.7581\n",
            "Epoch 3/50\n",
            "1/1 [==============================] - 0s 44ms/step - loss: 1.2820 - accuracy: 0.7409\n",
            "Epoch 4/50\n",
            "1/1 [==============================] - 0s 39ms/step - loss: 1.0995 - accuracy: 0.7742\n",
            "Epoch 5/50\n",
            "1/1 [==============================] - 0s 40ms/step - loss: 1.0936 - accuracy: 0.7705\n",
            "Epoch 6/50\n",
            "1/1 [=======================>......] - ETA: 0s - loss: 0.8927 - accuracy: 0.7786"
          ]
        },
        {
          "output_type": "stream",
          "name": "stderr",
          "text": [
            "<ipython-input-38-9237d34d990a>:2: UserWarning: `Model.fit_generator` is deprecated and will be removed in a future version. Please use `Model.fit`, which supports generators.\n",
            "  val2 = model.fit_generator(generate_model_batches(cn_test, batch_size=BATCH_SIZE), steps_per_epoch=len(cn_test)/BATCH_SIZE, epochs=50)\n"
          ]
        },
        {
          "output_type": "stream",
          "name": "stdout",
          "text": [
            "\b\b\b\b\b\b\b\b\b\b\b\b\b\b\b\b\b\b\b\b\b\b\b\b\b\b\b\b\b\b\b\b\b\b\b\b\b\b\b\b\b\b\b\b\b\b\b\b\b\b\b\b\b\b\b\b\b\b\b\b\b\b\b\b\b\b\b\b\b\b\b\b\b\b\b\b\b\b\b\b\r1/1 [==============================] - 0s 45ms/step - loss: 1.0225 - accuracy: 0.7591\n",
            "Epoch 7/50\n",
            "1/1 [==============================] - 0s 37ms/step - loss: 0.8643 - accuracy: 0.7935\n",
            "Epoch 8/50\n",
            "1/1 [==============================] - 0s 45ms/step - loss: 0.8053 - accuracy: 0.7957\n",
            "Epoch 9/50\n",
            "1/1 [==============================] - 0s 37ms/step - loss: 0.8152 - accuracy: 0.7911\n",
            "Epoch 10/50\n",
            "1/1 [==============================] - 0s 37ms/step - loss: 0.7738 - accuracy: 0.7957\n",
            "Epoch 11/50\n",
            "1/1 [==============================] - 0s 38ms/step - loss: 0.6396 - accuracy: 0.8269\n",
            "Epoch 12/50\n",
            "1/1 [==============================] - 0s 39ms/step - loss: 0.6169 - accuracy: 0.8269\n",
            "Epoch 13/50\n",
            "1/1 [==============================] - 0s 37ms/step - loss: 0.5806 - accuracy: 0.8591\n",
            "Epoch 14/50\n",
            "1/1 [==============================] - 0s 38ms/step - loss: 0.5435 - accuracy: 0.8516\n",
            "Epoch 15/50\n",
            "1/1 [==============================] - 0s 40ms/step - loss: 0.6079 - accuracy: 0.8436\n",
            "Epoch 16/50\n",
            "1/1 [==============================] - 0s 40ms/step - loss: 0.5261 - accuracy: 0.8613\n",
            "Epoch 17/50\n",
            "1/1 [==============================] - 0s 39ms/step - loss: 0.4927 - accuracy: 0.8677\n",
            "Epoch 18/50\n",
            "1/1 [==============================] - 0s 44ms/step - loss: 0.4632 - accuracy: 0.8699\n",
            "Epoch 19/50\n",
            "1/1 [==============================] - 0s 38ms/step - loss: 0.4570 - accuracy: 0.8720\n",
            "Epoch 20/50\n",
            "1/1 [==============================] - 0s 38ms/step - loss: 0.5263 - accuracy: 0.8596\n",
            "Epoch 21/50\n",
            "1/1 [==============================] - 0s 36ms/step - loss: 0.4673 - accuracy: 0.8847\n",
            "Epoch 22/50\n",
            "1/1 [==============================] - 0s 36ms/step - loss: 0.4908 - accuracy: 0.8687\n",
            "Epoch 23/50\n",
            "1/1 [==============================] - 0s 37ms/step - loss: 0.3946 - accuracy: 0.8903\n",
            "Epoch 24/50\n",
            "1/1 [==============================] - 0s 38ms/step - loss: 0.4032 - accuracy: 0.8806\n",
            "Epoch 25/50\n",
            "1/1 [==============================] - 0s 38ms/step - loss: 0.4144 - accuracy: 0.8796\n",
            "Epoch 26/50\n",
            "1/1 [==============================] - 0s 37ms/step - loss: 0.3866 - accuracy: 0.8935\n",
            "Epoch 27/50\n",
            "1/1 [==============================] - 0s 37ms/step - loss: 0.3808 - accuracy: 0.8839\n",
            "Epoch 28/50\n",
            "1/1 [==============================] - 0s 36ms/step - loss: 0.4259 - accuracy: 0.8801\n",
            "Epoch 29/50\n",
            "1/1 [==============================] - 0s 38ms/step - loss: 0.4245 - accuracy: 0.8836\n",
            "Epoch 30/50\n",
            "1/1 [==============================] - 0s 36ms/step - loss: 0.3688 - accuracy: 0.8903\n",
            "Epoch 31/50\n",
            "1/1 [==============================] - 0s 38ms/step - loss: 0.4097 - accuracy: 0.8801\n",
            "Epoch 32/50\n",
            "1/1 [==============================] - 0s 37ms/step - loss: 0.3577 - accuracy: 0.8925\n",
            "Epoch 33/50\n",
            "1/1 [==============================] - 0s 36ms/step - loss: 0.3656 - accuracy: 0.8839\n",
            "Epoch 34/50\n",
            "1/1 [==============================] - 0s 42ms/step - loss: 0.4063 - accuracy: 0.8721\n",
            "Epoch 35/50\n",
            "1/1 [==============================] - 0s 39ms/step - loss: 0.3496 - accuracy: 0.8892\n",
            "Epoch 36/50\n",
            "1/1 [==============================] - 0s 43ms/step - loss: 0.3390 - accuracy: 0.8989\n",
            "Epoch 37/50\n",
            "1/1 [==============================] - 0s 36ms/step - loss: 0.3506 - accuracy: 0.8914\n",
            "Epoch 38/50\n",
            "1/1 [==============================] - 0s 35ms/step - loss: 0.3516 - accuracy: 0.8973\n",
            "Epoch 39/50\n",
            "1/1 [==============================] - 0s 35ms/step - loss: 0.3316 - accuracy: 0.8946\n",
            "Epoch 40/50\n",
            "1/1 [==============================] - 0s 37ms/step - loss: 0.3243 - accuracy: 0.8925\n",
            "Epoch 41/50\n",
            "1/1 [==============================] - 0s 36ms/step - loss: 0.3374 - accuracy: 0.8935\n",
            "Epoch 42/50\n",
            "1/1 [==============================] - 0s 38ms/step - loss: 0.3878 - accuracy: 0.8824\n",
            "Epoch 43/50\n",
            "1/1 [==============================] - 0s 36ms/step - loss: 0.3066 - accuracy: 0.8957\n",
            "Epoch 44/50\n",
            "1/1 [==============================] - 0s 37ms/step - loss: 0.3249 - accuracy: 0.8892\n",
            "Epoch 45/50\n",
            "1/1 [==============================] - 0s 38ms/step - loss: 0.3464 - accuracy: 0.8767\n",
            "Epoch 46/50\n",
            "1/1 [==============================] - 0s 37ms/step - loss: 0.3645 - accuracy: 0.8893\n",
            "Epoch 47/50\n",
            "1/1 [==============================] - 0s 38ms/step - loss: 0.3586 - accuracy: 0.8858\n",
            "Epoch 48/50\n",
            "1/1 [==============================] - 0s 39ms/step - loss: 0.3513 - accuracy: 0.8881\n",
            "Epoch 49/50\n",
            "1/1 [==============================] - 0s 37ms/step - loss: 0.3612 - accuracy: 0.8756\n",
            "Epoch 50/50\n",
            "1/1 [==============================] - 0s 38ms/step - loss: 0.3252 - accuracy: 0.8961\n"
          ]
        }
      ]
    },
    {
      "cell_type": "code",
      "source": [
        "# val\n",
        "val2 = model2.fit_generator(generate_model_batches2(us_val, batch_size=BATCH_SIZE), steps_per_epoch=len(us_val)/BATCH_SIZE, epochs=20)"
      ],
      "metadata": {
        "colab": {
          "base_uri": "https://localhost:8080/"
        },
        "id": "FygsP6EdG3m0",
        "outputId": "3c60b5a6-818d-4281-f0e7-04159b8edae5"
      },
      "execution_count": null,
      "outputs": [
        {
          "output_type": "stream",
          "name": "stdout",
          "text": [
            "Epoch 1/20\n",
            "1/1 [==============================] - 0s 47ms/step - loss: 0.7940 - accuracy: 0.7522\n",
            "Epoch 2/20\n",
            "1/1 [==============================] - 0s 40ms/step - loss: 0.8455 - accuracy: 0.7396\n",
            "Epoch 3/20\n",
            "1/1 [==============================] - 0s 40ms/step - loss: 0.7809 - accuracy: 0.7563\n",
            "Epoch 4/20\n",
            "1/1 [==============================] - 0s 41ms/step - loss: 0.8627 - accuracy: 0.7412\n",
            "Epoch 5/20\n",
            "1/1 [==============================] - 0s 45ms/step - loss: 0.7845 - accuracy: 0.7553\n",
            "Epoch 6/20\n",
            "1/1 [==============================] - 0s 39ms/step - loss: 0.7955 - accuracy: 0.7526\n",
            "Epoch 7/20\n",
            "1/1 [==============================] - 0s 40ms/step - loss: 0.8301 - accuracy: 0.7452\n",
            "Epoch 8/20\n"
          ]
        },
        {
          "output_type": "stream",
          "name": "stderr",
          "text": [
            "<ipython-input-33-564ebc01d6ea>:2: UserWarning: `Model.fit_generator` is deprecated and will be removed in a future version. Please use `Model.fit`, which supports generators.\n",
            "  val2 = model2.fit_generator(generate_model_batches2(us_val, batch_size=BATCH_SIZE), steps_per_epoch=len(us_val)/BATCH_SIZE, epochs=20)\n"
          ]
        },
        {
          "output_type": "stream",
          "name": "stdout",
          "text": [
            "1/1 [==============================] - 0s 39ms/step - loss: 0.7797 - accuracy: 0.7605\n",
            "Epoch 9/20\n",
            "1/1 [==============================] - 0s 38ms/step - loss: 0.8325 - accuracy: 0.7482\n",
            "Epoch 10/20\n",
            "1/1 [==============================] - 0s 39ms/step - loss: 0.7819 - accuracy: 0.7556\n",
            "Epoch 11/20\n",
            "1/1 [==============================] - 0s 41ms/step - loss: 0.7872 - accuracy: 0.7563\n",
            "Epoch 12/20\n",
            "1/1 [==============================] - 0s 39ms/step - loss: 0.8400 - accuracy: 0.7454\n",
            "Epoch 13/20\n",
            "1/1 [==============================] - 0s 38ms/step - loss: 0.8423 - accuracy: 0.7454\n",
            "Epoch 14/20\n",
            "1/1 [==============================] - 0s 40ms/step - loss: 0.8183 - accuracy: 0.7490\n",
            "Epoch 15/20\n",
            "1/1 [==============================] - 0s 40ms/step - loss: 0.8192 - accuracy: 0.7481\n",
            "Epoch 16/20\n",
            "1/1 [==============================] - 0s 40ms/step - loss: 0.8578 - accuracy: 0.7392\n",
            "Epoch 17/20\n",
            "1/1 [==============================] - 0s 41ms/step - loss: 0.7649 - accuracy: 0.7599\n",
            "Epoch 18/20\n",
            "1/1 [==============================] - 0s 44ms/step - loss: 0.7930 - accuracy: 0.7488\n",
            "Epoch 19/20\n",
            "1/1 [==============================] - 0s 39ms/step - loss: 0.7714 - accuracy: 0.7596\n",
            "Epoch 20/20\n",
            "1/1 [==============================] - 0s 39ms/step - loss: 0.8073 - accuracy: 0.7549\n"
          ]
        }
      ]
    },
    {
      "cell_type": "code",
      "source": [
        "# test\n",
        "test2 = model2.fit_generator(generate_model_batches2(us_val, batch_size=BATCH_SIZE), steps_per_epoch=len(us_val)/BATCH_SIZE, epochs=20)"
      ],
      "metadata": {
        "colab": {
          "base_uri": "https://localhost:8080/"
        },
        "id": "yj_Wsu8PrUlb",
        "outputId": "224ad3ee-0ac1-4f55-bb7c-da234cff25ef"
      },
      "execution_count": null,
      "outputs": [
        {
          "output_type": "stream",
          "name": "stdout",
          "text": [
            "Epoch 1/20\n",
            "1/1 [==============================] - 0s 53ms/step - loss: 0.8414 - accuracy: 0.7389\n",
            "Epoch 2/20\n",
            "1/1 [==============================] - 0s 46ms/step - loss: 0.7847 - accuracy: 0.7523\n",
            "Epoch 3/20\n",
            "1/1 [==============================] - 0s 39ms/step - loss: 0.8151 - accuracy: 0.7518\n",
            "Epoch 4/20\n",
            "1/1 [==============================] - 0s 39ms/step - loss: 0.7792 - accuracy: 0.7542\n",
            "Epoch 5/20\n",
            "1/1 [==============================] - 0s 42ms/step - loss: 0.8151 - accuracy: 0.7489\n",
            "Epoch 6/20\n",
            "1/1 [==============================] - 0s 41ms/step - loss: 0.7729 - accuracy: 0.7568\n",
            "Epoch 7/20\n",
            "1/1 [==============================] - 0s 38ms/step - loss: 0.7656 - accuracy: 0.7597\n",
            "Epoch 8/20\n"
          ]
        },
        {
          "output_type": "stream",
          "name": "stderr",
          "text": [
            "<ipython-input-34-80edcff1dc8f>:2: UserWarning: `Model.fit_generator` is deprecated and will be removed in a future version. Please use `Model.fit`, which supports generators.\n",
            "  test2 = model2.fit_generator(generate_model_batches2(us_val, batch_size=BATCH_SIZE), steps_per_epoch=len(us_val)/BATCH_SIZE, epochs=20)\n"
          ]
        },
        {
          "output_type": "stream",
          "name": "stdout",
          "text": [
            "1/1 [==============================] - 0s 39ms/step - loss: 0.7850 - accuracy: 0.7528\n",
            "Epoch 9/20\n",
            "1/1 [==============================] - 0s 40ms/step - loss: 0.7659 - accuracy: 0.7611\n",
            "Epoch 10/20\n",
            "1/1 [==============================] - 0s 40ms/step - loss: 0.8212 - accuracy: 0.7500\n",
            "Epoch 11/20\n",
            "1/1 [==============================] - 0s 39ms/step - loss: 0.7798 - accuracy: 0.7518\n",
            "Epoch 12/20\n",
            "1/1 [==============================] - 0s 38ms/step - loss: 0.8086 - accuracy: 0.7519\n",
            "Epoch 13/20\n",
            "1/1 [==============================] - 0s 39ms/step - loss: 0.7757 - accuracy: 0.7546\n",
            "Epoch 14/20\n",
            "1/1 [==============================] - 0s 37ms/step - loss: 0.8025 - accuracy: 0.7545\n",
            "Epoch 15/20\n",
            "1/1 [==============================] - 0s 39ms/step - loss: 0.7806 - accuracy: 0.7550\n",
            "Epoch 16/20\n",
            "1/1 [==============================] - 0s 37ms/step - loss: 0.8017 - accuracy: 0.7498\n",
            "Epoch 17/20\n",
            "1/1 [==============================] - 0s 37ms/step - loss: 0.7935 - accuracy: 0.7515\n",
            "Epoch 18/20\n",
            "1/1 [==============================] - 0s 37ms/step - loss: 0.7895 - accuracy: 0.7528\n",
            "Epoch 19/20\n",
            "1/1 [==============================] - 0s 38ms/step - loss: 0.7706 - accuracy: 0.7587\n",
            "Epoch 20/20\n",
            "1/1 [==============================] - 0s 38ms/step - loss: 0.7560 - accuracy: 0.7609\n"
          ]
        }
      ]
    },
    {
      "cell_type": "markdown",
      "metadata": {
        "id": "WNf_RoyhAXi_"
      },
      "source": [
        "## Sample Text\n",
        "Generate new names by feeding a seed input."
      ]
    },
    {
      "cell_type": "code",
      "execution_count": null,
      "metadata": {
        "id": "IuXgLuN4Aexw",
        "colab": {
          "base_uri": "https://localhost:8080/"
        },
        "outputId": "ad7b9acd-0c19-483b-b512-c34424daccd2"
      },
      "outputs": [
        {
          "output_type": "stream",
          "name": "stdout",
          "text": [
            "1/1 [==============================] - 0s 474ms/step\n",
            "1/1 [==============================] - 0s 20ms/step\n",
            "许曲\n",
            "1/1 [==============================] - 0s 19ms/step\n",
            "1/1 [==============================] - 0s 19ms/step\n",
            "甸夏\n",
            "1/1 [==============================] - 0s 19ms/step\n",
            "1/1 [==============================] - 0s 20ms/step\n",
            "仁屏\n",
            "1/1 [==============================] - 0s 19ms/step\n",
            "1/1 [==============================] - 0s 19ms/step\n",
            "休谷\n",
            "1/1 [==============================] - 0s 19ms/step\n",
            "1/1 [==============================] - 0s 19ms/step\n",
            "饶中\n",
            "1/1 [==============================] - 0s 19ms/step\n",
            "1/1 [==============================] - 0s 20ms/step\n",
            "戴州\n",
            "1/1 [==============================] - 0s 20ms/step\n",
            "1/1 [==============================] - 0s 20ms/step\n",
            "齐江\n",
            "1/1 [==============================] - 0s 19ms/step\n",
            "1/1 [==============================] - 0s 20ms/step\n",
            "和丹\n",
            "1/1 [==============================] - 0s 19ms/step\n",
            "1/1 [==============================] - 0s 19ms/step\n",
            "朔松\n",
            "1/1 [==============================] - 0s 20ms/step\n",
            "1/1 [==============================] - 0s 19ms/step\n",
            "场多\n"
          ]
        }
      ],
      "source": [
        "# samples text from language model\n",
        "def sample_text(seed_phrase='a', max_length=max_name_len):\n",
        "\n",
        "\n",
        "    # input x to numerical index\n",
        "    text_x = to_num_matrix(list(list(seed_phrase)), ch_to_idx)\n",
        "    # index of current character\n",
        "    ch = ch_to_idx[seed_phrase]\n",
        "\n",
        "    # list of predicted character indices\n",
        "    indices = []\n",
        "    # counter\n",
        "    i = 0\n",
        "\n",
        "    #start generating\n",
        "    while ch != 0 and i<max_length:\n",
        "        # predict using the input character\n",
        "        pred = model.predict(text_x)[0]\n",
        "\n",
        "        # get the char with highest prob.\n",
        "        ch = np.random.choice(np.arange(len(vocab_tokens)) , p = pred.ravel())\n",
        "\n",
        "        if ch!=0:\n",
        "            indices.append(ch)\n",
        "\n",
        "        # feed the current char as the next input\n",
        "        text_x = to_num_matrix(list(list(idx_to_ch[ch])), ch_to_idx)\n",
        "\n",
        "        i = i+ 1\n",
        "\n",
        "\n",
        "    return ''.join([idx_to_ch[idx] for idx in indices])\n",
        "\n",
        "\n",
        "i = 0\n",
        "while i < 10:\n",
        "    name = sample_text('南', max_length=2)\n",
        "    if name != '':\n",
        "        print(name)\n",
        "        i += 1"
      ]
    },
    {
      "cell_type": "code",
      "source": [
        "# samples text from language model\n",
        "def sample_text2(seed_phrase='a', max_length=max_name_len):\n",
        "\n",
        "\n",
        "    # input x to numerical index\n",
        "    text_x = to_num_matrix(list(list(seed_phrase)), ch_to_idx2)\n",
        "    # index of current character\n",
        "    ch = ch_to_idx2[seed_phrase]\n",
        "\n",
        "    # list of predicted character indices\n",
        "    indices = []\n",
        "    # counter\n",
        "    i = 0\n",
        "\n",
        "    #start generating\n",
        "    while ch != 0 and i<max_length:\n",
        "        # predict using the input character\n",
        "        pred = model2.predict(text_x)[0]\n",
        "\n",
        "        # get the char with highest prob.\n",
        "        ch = np.random.choice(np.arange(len(vocab_tokens2)) , p = pred.ravel())\n",
        "\n",
        "        if ch!=0:\n",
        "            indices.append(ch)\n",
        "\n",
        "        # feed the current char as the next input\n",
        "        text_x = to_num_matrix(list(list(idx_to_ch2[ch])), ch_to_idx2)\n",
        "\n",
        "        i = i+ 1\n",
        "\n",
        "\n",
        "    return ''.join([idx_to_ch2[idx] for idx in indices])\n",
        "\n",
        "\n",
        "i = 0\n",
        "while i < 10:\n",
        "    name = sample_text2('b', max_length=9)\n",
        "    if name != '':\n",
        "        print(name)\n",
        "        i += 1"
      ],
      "metadata": {
        "colab": {
          "base_uri": "https://localhost:8080/"
        },
        "id": "_dakBT6Tro5I",
        "outputId": "0828907e-3490-416c-e7cc-a24c6a50008b"
      },
      "execution_count": null,
      "outputs": [
        {
          "output_type": "stream",
          "name": "stdout",
          "text": [
            "1/1 [==============================] - 0s 333ms/step\n",
            "1/1 [==============================] - 0s 19ms/step\n",
            "1/1 [==============================] - 0s 20ms/step\n",
            "1/1 [==============================] - 0s 19ms/step\n",
            "1/1 [==============================] - 0s 20ms/step\n",
            "1/1 [==============================] - 0s 19ms/step\n",
            "1/1 [==============================] - 0s 19ms/step\n",
            "1/1 [==============================] - 0s 19ms/step\n",
            "1/1 [==============================] - 0s 20ms/step\n",
            "erilorree\n",
            "1/1 [==============================] - 0s 20ms/step\n",
            "1/1 [==============================] - 0s 24ms/step\n",
            "1/1 [==============================] - 0s 20ms/step\n",
            "1/1 [==============================] - 0s 19ms/step\n",
            "1/1 [==============================] - 0s 19ms/step\n",
            "1/1 [==============================] - 0s 20ms/step\n",
            "1/1 [==============================] - 0s 19ms/step\n",
            "1/1 [==============================] - 0s 19ms/step\n",
            "1/1 [==============================] - 0s 19ms/step\n",
            "ewamaleli\n",
            "1/1 [==============================] - 0s 19ms/step\n",
            "1/1 [==============================] - 0s 19ms/step\n",
            "1/1 [==============================] - 0s 20ms/step\n",
            "1/1 [==============================] - 0s 20ms/step\n",
            "1/1 [==============================] - 0s 22ms/step\n",
            "1/1 [==============================] - 0s 20ms/step\n",
            "1/1 [==============================] - 0s 20ms/step\n",
            "1/1 [==============================] - 0s 20ms/step\n",
            "1/1 [==============================] - 0s 19ms/step\n",
            "aloewiler\n",
            "1/1 [==============================] - 0s 19ms/step\n",
            "1/1 [==============================] - 0s 19ms/step\n",
            "1/1 [==============================] - 0s 19ms/step\n",
            "1/1 [==============================] - 0s 19ms/step\n",
            "1/1 [==============================] - 0s 19ms/step\n",
            "1/1 [==============================] - 0s 21ms/step\n",
            "1/1 [==============================] - 0s 20ms/step\n",
            "1/1 [==============================] - 0s 20ms/step\n",
            "1/1 [==============================] - 0s 19ms/step\n",
            "adetooror\n",
            "1/1 [==============================] - 0s 19ms/step\n",
            "1/1 [==============================] - 0s 19ms/step\n",
            "1/1 [==============================] - 0s 20ms/step\n",
            "1/1 [==============================] - 0s 20ms/step\n",
            "1/1 [==============================] - 0s 20ms/step\n",
            "1/1 [==============================] - 0s 20ms/step\n",
            "1/1 [==============================] - 0s 20ms/step\n",
            "1/1 [==============================] - 0s 21ms/step\n",
            "1/1 [==============================] - 0s 19ms/step\n",
            "ukaohibra\n",
            "1/1 [==============================] - 0s 19ms/step\n",
            "1/1 [==============================] - 0s 19ms/step\n",
            "1/1 [==============================] - 0s 19ms/step\n",
            "1/1 [==============================] - 0s 19ms/step\n",
            "1/1 [==============================] - 0s 20ms/step\n",
            "1/1 [==============================] - 0s 19ms/step\n",
            "1/1 [==============================] - 0s 19ms/step\n",
            "1/1 [==============================] - 0s 19ms/step\n",
            "1/1 [==============================] - 0s 19ms/step\n",
            "relaucoou\n",
            "1/1 [==============================] - 0s 19ms/step\n",
            "1/1 [==============================] - 0s 19ms/step\n",
            "1/1 [==============================] - 0s 19ms/step\n",
            "1/1 [==============================] - 0s 20ms/step\n",
            "1/1 [==============================] - 0s 19ms/step\n",
            "1/1 [==============================] - 0s 20ms/step\n",
            "1/1 [==============================] - 0s 20ms/step\n",
            "1/1 [==============================] - 0s 20ms/step\n",
            "1/1 [==============================] - 0s 20ms/step\n",
            "ucoraweva\n",
            "1/1 [==============================] - 0s 19ms/step\n",
            "1/1 [==============================] - 0s 19ms/step\n",
            "1/1 [==============================] - 0s 19ms/step\n",
            "1/1 [==============================] - 0s 19ms/step\n",
            "1/1 [==============================] - 0s 19ms/step\n",
            "1/1 [==============================] - 0s 20ms/step\n",
            "1/1 [==============================] - 0s 20ms/step\n",
            "1/1 [==============================] - 0s 21ms/step\n",
            "1/1 [==============================] - 0s 20ms/step\n",
            "oonioroka\n",
            "1/1 [==============================] - 0s 20ms/step\n",
            "1/1 [==============================] - 0s 20ms/step\n",
            "1/1 [==============================] - 0s 19ms/step\n",
            "1/1 [==============================] - 0s 19ms/step\n",
            "1/1 [==============================] - 0s 19ms/step\n",
            "1/1 [==============================] - 0s 20ms/step\n",
            "1/1 [==============================] - 0s 20ms/step\n",
            "1/1 [==============================] - 0s 19ms/step\n",
            "1/1 [==============================] - 0s 19ms/step\n",
            "lanorha o\n",
            "1/1 [==============================] - 0s 19ms/step\n",
            "1/1 [==============================] - 0s 20ms/step\n",
            "1/1 [==============================] - 0s 19ms/step\n",
            "1/1 [==============================] - 0s 19ms/step\n",
            "1/1 [==============================] - 0s 19ms/step\n",
            "1/1 [==============================] - 0s 20ms/step\n",
            "1/1 [==============================] - 0s 20ms/step\n",
            "1/1 [==============================] - 0s 21ms/step\n",
            "1/1 [==============================] - 0s 20ms/step\n",
            "raronoein\n"
          ]
        }
      ]
    }
  ],
  "metadata": {
    "accelerator": "GPU",
    "colab": {
      "provenance": [],
      "machine_shape": "hm",
      "gpuType": "A100",
      "include_colab_link": true
    },
    "kernelspec": {
      "display_name": "Python 3",
      "name": "python3"
    },
    "language_info": {
      "codemirror_mode": {
        "name": "ipython",
        "version": 3
      },
      "file_extension": ".py",
      "mimetype": "text/x-python",
      "name": "python",
      "nbconvert_exporter": "python",
      "pygments_lexer": "ipython3",
      "version": "3.6.5"
    }
  },
  "nbformat": 4,
  "nbformat_minor": 0
}