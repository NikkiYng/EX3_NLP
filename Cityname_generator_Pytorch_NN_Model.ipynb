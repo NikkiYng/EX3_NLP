{
  "nbformat": 4,
  "nbformat_minor": 0,
  "metadata": {
    "colab": {
      "provenance": [],
      "include_colab_link": true
    },
    "kernelspec": {
      "name": "python3",
      "display_name": "Python 3"
    },
    "language_info": {
      "name": "python"
    }
  },
  "cells": [
    {
      "cell_type": "markdown",
      "metadata": {
        "id": "view-in-github",
        "colab_type": "text"
      },
      "source": [
        "<a href=\"https://colab.research.google.com/github/NikkiYng/EX3_NLP/blob/main/Cityname_generator_Pytorch_NN_Model.ipynb\" target=\"_parent\"><img src=\"https://colab.research.google.com/assets/colab-badge.svg\" alt=\"Open In Colab\"/></a>"
      ]
    },
    {
      "cell_type": "code",
      "execution_count": 1,
      "metadata": {
        "id": "vowXRstocd8F"
      },
      "outputs": [],
      "source": [
        "import torch\n",
        "import torch.nn.functional as F\n",
        "import matplotlib.pyplot as plt\n",
        "%matplotlib inline\n",
        "import random\n",
        "import pandas as pd"
      ]
    },
    {
      "cell_type": "markdown",
      "source": [
        "# **Data preparation**"
      ],
      "metadata": {
        "id": "A62vtn9GOvXI"
      }
    },
    {
      "cell_type": "markdown",
      "source": [
        "**1. Get data from github**"
      ],
      "metadata": {
        "id": "YgjoDTDibP9-"
      }
    },
    {
      "cell_type": "code",
      "source": [
        "# Chinese cities\n",
        "!wget https://raw.githubusercontent.com/NikkiYng/EX3_NLP/main/china_cities.csv\n",
        "cncities = pd.read_csv(\"china_cities.csv\")\n",
        "cncities = cncities['中文'].drop_duplicates() # only keep the column with city names\n",
        "\n",
        "# Convert the `cncities` dataframe to a TXT file\n",
        "with open(\"cncities.txt\", \"w\") as text_file:\n",
        "    cncities.to_csv(text_file, sep='\\t', index=False, header=None)\n",
        "\n",
        "cncities = open('cncities.txt', 'r').read().splitlines()\n",
        "print(cncities[:30])\n",
        "print(len(cncities))"
      ],
      "metadata": {
        "id": "dHHkBN8uGlR7",
        "colab": {
          "base_uri": "https://localhost:8080/"
        },
        "outputId": "90743b34-2bf6-4bc4-fe98-4d3152f57f1c"
      },
      "execution_count": 2,
      "outputs": [
        {
          "output_type": "stream",
          "name": "stdout",
          "text": [
            "--2024-03-31 18:55:02--  https://raw.githubusercontent.com/NikkiYng/EX3_NLP/main/china_cities.csv\n",
            "Resolving raw.githubusercontent.com (raw.githubusercontent.com)... 185.199.109.133, 185.199.110.133, 185.199.108.133, ...\n",
            "Connecting to raw.githubusercontent.com (raw.githubusercontent.com)|185.199.109.133|:443... connected.\n",
            "HTTP request sent, awaiting response... 200 OK\n",
            "Length: 300500 (293K) [text/plain]\n",
            "Saving to: ‘china_cities.csv’\n",
            "\n",
            "china_cities.csv    100%[===================>] 293.46K  --.-KB/s    in 0.05s   \n",
            "\n",
            "2024-03-31 18:55:02 (6.24 MB/s) - ‘china_cities.csv’ saved [300500/300500]\n",
            "\n",
            "['北京', '海淀', '朝阳', '顺义', '怀柔', '通州', '昌平', '延庆', '丰台', '石景山', '大兴', '房山', '密云', '门头沟', '平谷', '东城', '西城', '上海', '闵行', '宝山', '黄浦', '嘉定', '浦东新区', '金山', '青浦', '松江', '奉贤', '崇明', '徐汇', '长宁']\n",
            "3093\n"
          ]
        }
      ]
    },
    {
      "cell_type": "code",
      "source": [
        "# American City Names\n",
        "!wget https://raw.githubusercontent.com/NikkiYng/EX3_NLP/main/uscities.csv\n",
        "uscities = pd.read_csv(\"uscities.csv\")\n",
        "\n",
        "def replace_special_chars(char): # Clean up some of the special characters\n",
        "    replace = {',': '', '1': '', '2': '', '5': '', '6': '', '7': '', 'á': 'a', 'é': 'e', 'í': 'i', 'ñ': 'n', 'ó': 'o', 'ú': 'u', 'ü': 'u'}\n",
        "    return replace[char] if char in replace else char\n",
        "\n",
        "uscities = uscities['city'].map(lambda word: ''.join([replace_special_chars(char) for char in word]))\n",
        "uscities = uscities.drop_duplicates()[:3093] # match the number of the cncities\n",
        "\n",
        "# Convert the `cncities` dataframe to a TXT file\n",
        "with open(\"uscities.txt\", \"w\") as text_file:\n",
        "    uscities.to_csv(text_file, sep='\\t', index=False, header=None)\n",
        "\n",
        "uscities = open('uscities.txt', 'r').read().lower().splitlines()\n",
        "print(uscities[:30])\n",
        "print(len(uscities))"
      ],
      "metadata": {
        "colab": {
          "base_uri": "https://localhost:8080/"
        },
        "id": "9Rlc3YeWcm_d",
        "outputId": "6725499d-5f22-4100-9a8a-26051ac4dfd5"
      },
      "execution_count": 3,
      "outputs": [
        {
          "output_type": "stream",
          "name": "stdout",
          "text": [
            "--2024-03-31 18:55:02--  https://raw.githubusercontent.com/NikkiYng/EX3_NLP/main/uscities.csv\n",
            "Resolving raw.githubusercontent.com (raw.githubusercontent.com)... 185.199.111.133, 185.199.109.133, 185.199.110.133, ...\n",
            "Connecting to raw.githubusercontent.com (raw.githubusercontent.com)|185.199.111.133|:443... connected.\n",
            "HTTP request sent, awaiting response... 200 OK\n",
            "Length: 4703918 (4.5M) [text/plain]\n",
            "Saving to: ‘uscities.csv’\n",
            "\n",
            "uscities.csv        100%[===================>]   4.49M  --.-KB/s    in 0.1s    \n",
            "\n",
            "2024-03-31 18:55:03 (30.5 MB/s) - ‘uscities.csv’ saved [4703918/4703918]\n",
            "\n",
            "['new york', 'los angeles', 'chicago', 'miami', 'dallas', 'philadelphia', 'houston', 'atlanta', 'washington', 'boston', 'phoenix', 'seattle', 'san francisco', 'detroit', 'san diego', 'minneapolis', 'tampa', 'denver', 'brooklyn', 'queens', 'riverside', 'baltimore', 'las vegas', 'portland', 'san antonio', 'st. louis', 'sacramento', 'orlando', 'san jose', 'cleveland']\n",
            "3093\n"
          ]
        }
      ]
    },
    {
      "cell_type": "markdown",
      "source": [
        "**2. Build the vocabulary of characters and mappings to integers**"
      ],
      "metadata": {
        "id": "AmsdQtLhbVPm"
      }
    },
    {
      "cell_type": "code",
      "source": [
        "#American cities\n",
        "chars1 = sorted(list(set(''.join(uscities))))\n",
        "stoi1 = {s:i+1 for i,s in enumerate(chars1)}\n",
        "stoi1['.'] = 0\n",
        "itos1 = {i:s for s,i in stoi1.items()}\n",
        "print(itos1)\n",
        "print(len(itos1))"
      ],
      "metadata": {
        "colab": {
          "base_uri": "https://localhost:8080/"
        },
        "id": "EYnXhmWVcx-l",
        "outputId": "d589f2e7-5b07-4611-8179-7efadd50280b"
      },
      "execution_count": 4,
      "outputs": [
        {
          "output_type": "stream",
          "name": "stdout",
          "text": [
            "{1: ' ', 2: \"'\", 3: '-', 0: '.', 5: 'a', 6: 'b', 7: 'c', 8: 'd', 9: 'e', 10: 'f', 11: 'g', 12: 'h', 13: 'i', 14: 'j', 15: 'k', 16: 'l', 17: 'm', 18: 'n', 19: 'o', 20: 'p', 21: 'q', 22: 'r', 23: 's', 24: 't', 25: 'u', 26: 'v', 27: 'w', 28: 'x', 29: 'y', 30: 'z'}\n",
            "30\n"
          ]
        }
      ]
    },
    {
      "cell_type": "code",
      "source": [
        "#Chinese cities\n",
        "chars2 = sorted(list(set(''.join(cncities))))\n",
        "stoi2 = {s:i+1 for i,s in enumerate(chars2)}\n",
        "stoi2['.'] = 0\n",
        "itos2 = {i:s for s,i in stoi2.items()}\n",
        "print(itos2)\n",
        "print(len(itos2))"
      ],
      "metadata": {
        "id": "fiZKlLDCF8br",
        "colab": {
          "base_uri": "https://localhost:8080/"
        },
        "outputId": "83db04cf-1fb4-47d0-c06f-e85242ed0040"
      },
      "execution_count": 5,
      "outputs": [
        {
          "output_type": "stream",
          "name": "stdout",
          "text": [
            "{1: '丁', 2: '七', 3: '万', 4: '丈', 5: '三', 6: '上', 7: '下', 8: '且', 9: '丘', 10: '业', 11: '丛', 12: '东', 13: '两', 14: '个', 15: '中', 16: '丰', 17: '临', 18: '丹', 19: '为', 20: '主', 21: '丽', 22: '乃', 23: '久', 24: '义', 25: '乌', 26: '乐', 27: '九', 28: '习', 29: '乡', 30: '乳', 31: '乾', 32: '二', 33: '于', 34: '云', 35: '互', 36: '五', 37: '井', 38: '亚', 39: '交', 40: '亨', 41: '京', 42: '亭', 43: '亳', 44: '什', 45: '仁', 46: '仆', 47: '介', 48: '从', 49: '仑', 50: '仓', 51: '仔', 52: '仙', 53: '代', 54: '令', 55: '仪', 56: '们', 57: '仲', 58: '任', 59: '伊', 60: '伍', 61: '休', 62: '会', 63: '伟', 64: '伦', 65: '伯', 66: '伽', 67: '余', 68: '佛', 69: '作', 70: '佳', 71: '依', 72: '侯', 73: '保', 74: '信', 75: '修', 76: '偃', 77: '偏', 78: '儋', 79: '儿', 80: '元', 81: '充', 82: '光', 83: '克', 84: '兖', 85: '全', 86: '八', 87: '公', 88: '六', 89: '兰', 90: '共', 91: '关', 92: '兴', 93: '兵', 94: '冀', 95: '内', 96: '冈', 97: '册', 98: '冕', 99: '军', 100: '农', 101: '冠', 102: '冲', 103: '冶', 104: '冷', 105: '准', 106: '凉', 107: '凌', 108: '凤', 109: '凭', 110: '凯', 111: '凰', 112: '刀', 113: '分', 114: '列', 115: '则', 116: '刚', 117: '利', 118: '前', 119: '剑', 120: '力', 121: '劝', 122: '功', 123: '加', 124: '务', 125: '助', 126: '勃', 127: '勉', 128: '勐', 129: '勒', 130: '勤', 131: '匀', 132: '包', 133: '化', 134: '北', 135: '区', 136: '十', 137: '千', 138: '华', 139: '卓', 140: '单', 141: '南', 142: '博', 143: '卡', 144: '卢', 145: '卧', 146: '卫', 147: '印', 148: '即', 149: '厂', 150: '历', 151: '原', 152: '厢', 153: '厦', 154: '县', 155: '友', 156: '双', 157: '叙', 158: '叠', 159: '口', 160: '古', 161: '句', 162: '召', 163: '可', 164: '台', 165: '右', 166: '叶', 167: '合', 168: '吉', 169: '同', 170: '名', 171: '后', 172: '吐', 173: '向', 174: '吕', 175: '君', 176: '含', 177: '启', 178: '吴', 179: '吾', 180: '呈', 181: '周', 182: '呼', 183: '和', 184: '咸', 185: '哈', 186: '响', 187: '唐', 188: '商', 189: '喀', 190: '善', 191: '喇', 192: '喜', 193: '嘉', 194: '嘎', 195: '嘴', 196: '噶', 197: '囊', 198: '四', 199: '回', 200: '团', 201: '园', 202: '围', 203: '固', 204: '国', 205: '图', 206: '圈', 207: '土', 208: '圣', 209: '圩', 210: '圳', 211: '场', 212: '坂', 213: '坊', 214: '坎', 215: '坛', 216: '坝', 217: '坡', 218: '坤', 219: '坪', 220: '坻', 221: '垒', 222: '垣', 223: '垦', 224: '垫', 225: '埇', 226: '城', 227: '埔', 228: '埠', 229: '基', 230: '堂', 231: '堆', 232: '堡', 233: '堰', 234: '塔', 235: '塘', 236: '塞', 237: '墅', 238: '增', 239: '墨', 240: '壁', 241: '壤', 242: '壶', 243: '复', 244: '夏', 245: '外', 246: '多', 247: '大', 248: '天', 249: '太', 250: '央', 251: '头', 252: '夷', 253: '夹', 254: '奇', 255: '奈', 256: '奉', 257: '奎', 258: '好', 259: '如', 260: '妃', 261: '始', 262: '姑', 263: '姚', 264: '姜', 265: '威', 266: '娄', 267: '婺', 268: '嫩', 269: '子', 270: '孙', 271: '孚', 272: '孜', 273: '孝', 274: '孟', 275: '宁', 276: '宇', 277: '安', 278: '宏', 279: '宕', 280: '宗', 281: '官', 282: '定', 283: '宛', 284: '宜', 285: '宝', 286: '审', 287: '宣', 288: '宫', 289: '家', 290: '容', 291: '宽', 292: '宾', 293: '宿', 294: '密', 295: '富', 296: '寒', 297: '察', 298: '寨', 299: '寺', 300: '寻', 301: '寿', 302: '封', 303: '射', 304: '将', 305: '尉', 306: '小', 307: '尔', 308: '尖', 309: '尚', 310: '尤', 311: '尧', 312: '尼', 313: '尾', 314: '居', 315: '屏', 316: '屯', 317: '山', 318: '屿', 319: '岐', 320: '岑', 321: '岔', 322: '岗', 323: '岚', 324: '岛', 325: '岢', 326: '岩', 327: '岫', 328: '岭', 329: '岱', 330: '岳', 331: '岷', 332: '岸', 333: '峄', 334: '峒', 335: '峙', 336: '峡', 337: '峦', 338: '峨', 339: '峪', 340: '峰', 341: '峻', 342: '崂', 343: '崃', 344: '崆', 345: '崇', 346: '崖', 347: '嵊', 348: '嵩', 349: '巍', 350: '川', 351: '州', 352: '巢', 353: '工', 354: '左', 355: '巧', 356: '巨', 357: '巩', 358: '巫', 359: '巴', 360: '市', 361: '布', 362: '师', 363: '带', 364: '常', 365: '干', 366: '平', 367: '年', 368: '广', 369: '庄', 370: '庆', 371: '庐', 372: '库', 373: '应', 374: '底', 375: '店', 376: '府', 377: '度', 378: '庵', 379: '康', 380: '廉', 381: '廊', 382: '延', 383: '建', 384: '开', 385: '弋', 386: '弓', 387: '张', 388: '弥', 389: '强', 390: '归', 391: '当', 392: '彝', 393: '彦', 394: '彩', 395: '彬', 396: '彭', 397: '彰', 398: '征', 399: '徐', 400: '徒', 401: '得', 402: '循', 403: '微', 404: '德', 405: '徽', 406: '心', 407: '志', 408: '忠', 409: '忻', 410: '怀', 411: '怒', 412: '思', 413: '恒', 414: '恩', 415: '恭', 416: '息', 417: '恰', 418: '悟', 419: '惠', 420: '感', 421: '慈', 422: '戈', 423: '成', 424: '戴', 425: '户', 426: '房', 427: '手', 428: '扎', 429: '托', 430: '扬', 431: '扶', 432: '承', 433: '投', 434: '抚', 435: '拉', 436: '拐', 437: '拖', 438: '招', 439: '拜', 440: '拱', 441: '指', 442: '振', 443: '掇', 444: '掖', 445: '措', 446: '提', 447: '揭', 448: '播', 449: '攀', 450: '攸', 451: '改', 452: '放', 453: '政', 454: '故', 455: '敏', 456: '敖', 457: '敦', 458: '文', 459: '斗', 460: '斯', 461: '新', 462: '方', 463: '施', 464: '旅', 465: '旌', 466: '旗', 467: '无', 468: '日', 469: '旦', 470: '旧', 471: '旬', 472: '旺', 473: '昂', 474: '昆', 475: '昌', 476: '明', 477: '易', 478: '昔', 479: '星', 480: '春', 481: '昭', 482: '晃', 483: '晋', 484: '晏', 485: '晖', 486: '普', 487: '景', 488: '晴', 489: '暨', 490: '曙', 491: '曲', 492: '曹', 493: '曼', 494: '曾', 495: '月', 496: '朐', 497: '朔', 498: '朗', 499: '望', 500: '朝', 501: '木', 502: '未', 503: '末', 504: '本', 505: '札', 506: '杂', 507: '权', 508: '李', 509: '杏', 510: '村', 511: '杜', 512: '杞', 513: '来', 514: '杨', 515: '杭', 516: '松', 517: '极', 518: '林', 519: '果', 520: '枝', 521: '枞', 522: '枣', 523: '架', 524: '柏', 525: '柔', 526: '柘', 527: '柞', 528: '查', 529: '柯', 530: '柱', 531: '柳', 532: '柴', 533: '树', 534: '栖', 535: '栗', 536: '株', 537: '根', 538: '格', 539: '栾', 540: '桂', 541: '桃', 542: '桐', 543: '桑', 544: '桓', 545: '桥', 546: '桦', 547: '梁', 548: '梅', 549: '梓', 550: '梦', 551: '梧', 552: '梨', 553: '棉', 554: '棠', 555: '棣', 556: '棱', 557: '植', 558: '椒', 559: '楚', 560: '楞', 561: '楼', 562: '榆', 563: '榕', 564: '槐', 565: '樊', 566: '樟', 567: '横', 568: '次', 569: '歙', 570: '正', 571: '步', 572: '武', 573: '殷', 574: '比', 575: '毕', 576: '氏', 577: '民', 578: '水', 579: '永', 580: '氹', 581: '汀', 582: '汇', 583: '汉', 584: '汕', 585: '汝', 586: '江', 587: '池', 588: '汤', 589: '汨', 590: '汪', 591: '汶', 592: '汾', 593: '沁', 594: '沂', 595: '沃', 596: '沅', 597: '沈', 598: '沐', 599: '沙', 600: '沛', 601: '沟', 602: '沧', 603: '沭', 604: '河', 605: '油', 606: '治', 607: '沽', 608: '沾', 609: '沿', 610: '泉', 611: '泊', 612: '泌', 613: '法', 614: '泗', 615: '波', 616: '泰', 617: '泸', 618: '泽', 619: '泾', 620: '洋', 621: '洛', 622: '洞', 623: '津', 624: '洪', 625: '洮', 626: '洱', 627: '洲', 628: '洼', 629: '流', 630: '浈', 631: '浉', 632: '济', 633: '浏', 634: '浑', 635: '浔', 636: '浚', 637: '浠', 638: '浦', 639: '浩', 640: '浪', 641: '浮', 642: '海', 643: '涂', 644: '涉', 645: '涞', 646: '涟', 647: '涡', 648: '润', 649: '涧', 650: '涪', 651: '涯', 652: '涵', 653: '涿', 654: '淀', 655: '淄', 656: '淅', 657: '淇', 658: '淖', 659: '淞', 660: '淮', 661: '深', 662: '淳', 663: '清', 664: '渑', 665: '渝', 666: '渠', 667: '渡', 668: '温', 669: '渭', 670: '港', 671: '游', 672: '湄', 673: '湖', 674: '湘', 675: '湛', 676: '湟', 677: '湾', 678: '溆', 679: '源', 680: '溧', 681: '溪', 682: '滁', 683: '滋', 684: '滑', 685: '滕', 686: '满', 687: '滦', 688: '滨', 689: '滩', 690: '滴', 691: '漠', 692: '漯', 693: '漳', 694: '漾', 695: '潍', 696: '潘', 697: '潜', 698: '潞', 699: '潢', 700: '潭', 701: '潮', 702: '潼', 703: '澄', 704: '澜', 705: '澧', 706: '澳', 707: '濉', 708: '濞', 709: '濠', 710: '濮', 711: '瀍', 712: '灌', 713: '灞', 714: '灯', 715: '灵', 716: '炉', 717: '炎', 718: '点', 719: '烈', 720: '烟', 721: '烦', 722: '烽', 723: '焉', 724: '焦', 725: '煌', 726: '照', 727: '熟', 728: '爱', 729: '版', 730: '牌', 731: '牙', 732: '牛', 733: '牟', 734: '牡', 735: '牧', 736: '特', 737: '犁', 738: '犍', 739: '犹', 740: '独', 741: '狮', 742: '猇', 743: '猗', 744: '献', 745: '玄', 746: '玉', 747: '王', 748: '玛', 749: '环', 750: '珙', 751: '珠', 752: '班', 753: '珲', 754: '琅', 755: '理', 756: '琊', 757: '琼', 758: '瑞', 759: '瑶', 760: '璧', 761: '瓜', 762: '瓦', 763: '瓮', 764: '瓯', 765: '甘', 766: '田', 767: '申', 768: '电', 769: '甸', 770: '界', 771: '留', 772: '略', 773: '番', 774: '畴', 775: '疏', 776: '登', 777: '白', 778: '百', 779: '皇', 780: '皋', 781: '皮', 782: '盂', 783: '盈', 784: '益', 785: '盐', 786: '监', 787: '盖', 788: '盘', 789: '盟', 790: '盱', 791: '相', 792: '眉', 793: '眙', 794: '真', 795: '睢', 796: '石', 797: '矿', 798: '砀', 799: '研', 800: '砚', 801: '硕', 802: '硚', 803: '确', 804: '碌', 805: '碑', 806: '碚', 807: '碧', 808: '碱', 809: '碾', 810: '磁', 811: '磐', 812: '磨', 813: '磴', 814: '礼', 815: '社', 816: '祁', 817: '祝', 818: '神', 819: '祥', 820: '票', 821: '禄', 822: '禅', 823: '福', 824: '禹', 825: '禺', 826: '离', 827: '禾', 828: '秀', 829: '秉', 830: '科', 831: '秦', 832: '秭', 833: '积', 834: '称', 835: '稷', 836: '稻', 837: '穆', 838: '穗', 839: '穴', 840: '突', 841: '立', 842: '站', 843: '竞', 844: '章', 845: '端', 846: '竹', 847: '符', 848: '等', 849: '策', 850: '筠', 851: '简', 852: '管', 853: '箭', 854: '米', 855: '类', 856: '精', 857: '索', 858: '紫', 859: '綦', 860: '繁', 861: '红', 862: '纳', 863: '细', 864: '织', 865: '绍', 866: '经', 867: '结', 868: '绛', 869: '绥', 870: '绩', 871: '维', 872: '绵', 873: '绿', 874: '缙', 875: '罕', 876: '罗', 877: '罘', 878: '羊', 879: '羌', 880: '美', 881: '翁', 882: '翔', 883: '翠', 884: '翼', 885: '耀', 886: '老', 887: '考', 888: '耆', 889: '耒', 890: '耿', 891: '聂', 892: '聊', 893: '肃', 894: '肇', 895: '肥', 896: '胜', 897: '胡', 898: '胶', 899: '脂', 900: '脱', 901: '腊', 902: '腾', 903: '自', 904: '至', 905: '舆', 906: '舒', 907: '舞', 908: '舟', 909: '船', 910: '良', 911: '色', 912: '节', 913: '芒', 914: '芗', 915: '芙', 916: '芜', 917: '芝', 918: '芦', 919: '芬', 920: '芮', 921: '花', 922: '芷', 923: '苍', 924: '苏', 925: '苑', 926: '苗', 927: '若', 928: '英', 929: '茂', 930: '范', 931: '茄', 932: '茅', 933: '茌', 934: '茫', 935: '茶', 936: '荆', 937: '草', 938: '荔', 939: '荣', 940: '荥', 941: '荫', 942: '荷', 943: '莆', 944: '莎', 945: '莒', 946: '莘', 947: '莞', 948: '莫', 949: '莱', 950: '莲', 951: '获', 952: '菏', 953: '萍', 954: '萝', 955: '营', 956: '萧', 957: '萨', 958: '葛', 959: '葫', 960: '蒗', 961: '蒙', 962: '蒲', 963: '蒸', 964: '蓉', 965: '蓝', 966: '蓟', 967: '蓥', 968: '蓬', 969: '蔚', 970: '蔡', 971: '蔺', 972: '蕉', 973: '蕲', 974: '蕴', 975: '薛', 976: '藁', 977: '藤', 978: '虎', 979: '虞', 980: '虹', 981: '蚌', 982: '蛟', 983: '蜀', 984: '融', 985: '蠡', 986: '行', 987: '街', 988: '衡', 989: '衢', 990: '袁', 991: '裕', 992: '襄', 993: '西', 994: '要', 995: '覃', 996: '观', 997: '觉', 998: '解', 999: '让', 1000: '讷', 1001: '许', 1002: '诏', 1003: '诸', 1004: '诺', 1005: '调', 1006: '谊', 1007: '谋', 1008: '谟', 1009: '谢', 1010: '谦', 1011: '谯', 1012: '谱', 1013: '谷', 1014: '象', 1015: '豫', 1016: '贝', 1017: '贞', 1018: '贡', 1019: '贤', 1020: '贵', 1021: '费', 1022: '贺', 1023: '贾', 1024: '资', 1025: '赉', 1026: '赛', 1027: '赞', 1028: '赣', 1029: '赤', 1030: '赫', 1031: '赵', 1032: '起', 1033: '越', 1034: '足', 1035: '路', 1036: '车', 1037: '轮', 1038: '载', 1039: '辉', 1040: '辛', 1041: '辰', 1042: '边', 1043: '辽', 1044: '达', 1045: '迁', 1046: '迈', 1047: '迎', 1048: '运', 1049: '进', 1050: '远', 1051: '连', 1052: '迦', 1053: '迪', 1054: '迭', 1055: '逊', 1056: '通', 1057: '遂', 1058: '道', 1059: '遥', 1060: '遵', 1061: '邑', 1062: '邓', 1063: '邕', 1064: '邗', 1065: '邛', 1066: '邡', 1067: '邢', 1068: '那', 1069: '邮', 1070: '邯', 1071: '邱', 1072: '邳', 1073: '邵', 1074: '邹', 1075: '邺', 1076: '邻', 1077: '郁', 1078: '郊', 1079: '郎', 1080: '郏', 1081: '郑', 1082: '郓', 1083: '郧', 1084: '部', 1085: '郫', 1086: '郭', 1087: '郯', 1088: '郴', 1089: '郸', 1090: '都', 1091: '郾', 1092: '鄂', 1093: '鄄', 1094: '鄞', 1095: '鄢', 1096: '鄯', 1097: '鄱', 1098: '酉', 1099: '酒', 1100: '醴', 1101: '里', 1102: '重', 1103: '野', 1104: '金', 1105: '钓', 1106: '钟', 1107: '钢', 1108: '钦', 1109: '铁', 1110: '铅', 1111: '铜', 1112: '银', 1113: '锋', 1114: '错', 1115: '锡', 1116: '锦', 1117: '镇', 1118: '镜', 1119: '镶', 1120: '长', 1121: '门', 1122: '间', 1123: '闵', 1124: '闸', 1125: '闻', 1126: '闽', 1127: '阁', 1128: '阆', 1129: '阎', 1130: '阜', 1131: '阡', 1132: '防', 1133: '阳', 1134: '阴', 1135: '阿', 1136: '陀', 1137: '陂', 1138: '附', 1139: '陆', 1140: '陇', 1141: '陈', 1142: '陉', 1143: '陕', 1144: '陟', 1145: '陵', 1146: '陶', 1147: '隅', 1148: '隆', 1149: '随', 1150: '隰', 1151: '雁', 1152: '雄', 1153: '雅', 1154: '集', 1155: '雍', 1156: '雨', 1157: '零', 1158: '雷', 1159: '霄', 1160: '霍', 1161: '霞', 1162: '霸', 1163: '青', 1164: '靖', 1165: '静', 1166: '革', 1167: '鞍', 1168: '韩', 1169: '音', 1170: '韶', 1171: '顶', 1172: '项', 1173: '顺', 1174: '颍', 1175: '额', 1176: '风', 1177: '饶', 1178: '馆', 1179: '首', 1180: '香', 1181: '马', 1182: '驻', 1183: '驿', 1184: '骅', 1185: '高', 1186: '魏', 1187: '鱼', 1188: '鲁', 1189: '鲅', 1190: '鲤', 1191: '鸠', 1192: '鸡', 1193: '鸣', 1194: '鸭', 1195: '鹤', 1196: '鹰', 1197: '鹿', 1198: '麒', 1199: '麓', 1200: '麟', 1201: '麦', 1202: '麻', 1203: '黄', 1204: '黎', 1205: '黑', 1206: '黔', 1207: '黟', 1208: '鼎', 1209: '鼓', 1210: '齐', 1211: '龙', 0: '.'}\n",
            "1212\n"
          ]
        }
      ]
    },
    {
      "cell_type": "markdown",
      "source": [
        "**3. Create a three-fold dataset**"
      ],
      "metadata": {
        "id": "XKU3GHzabn4T"
      }
    },
    {
      "cell_type": "code",
      "source": [
        "# American cities\n",
        "\n",
        "# build the dataset\n",
        "block_size = 7\n",
        "\n",
        "def build_dataset(words):\n",
        "  X, Y = [], []\n",
        "  for w in words:\n",
        "\n",
        "    #print(w)\n",
        "    context = [0] * block_size\n",
        "    for ch in w + '.':\n",
        "      ix = stoi1[ch]\n",
        "      X.append(context)\n",
        "      Y.append(ix)\n",
        "      #print(''.join(itos[i] for i in context), '--->', itos[ix])\n",
        "      context = context[1:] + [ix] # crop and append\n",
        "\n",
        "  X = torch.tensor(X)\n",
        "  Y = torch.tensor(Y)\n",
        "  print(X.shape, Y.shape)\n",
        "  return X, Y\n",
        "\n",
        "# prepare the data splits\n",
        "random.seed(42)\n",
        "random.shuffle( uscities)\n",
        "n1 = int(0.8*len( uscities))\n",
        "n2 = int(0.9*len( uscities))\n",
        "\n",
        "Xtr, Ytr = build_dataset( uscities[:n1])\n",
        "Xdev, Ydev = build_dataset( uscities[n1:n2])\n",
        "Xte, Yte = build_dataset( uscities[n2:])"
      ],
      "metadata": {
        "colab": {
          "base_uri": "https://localhost:8080/"
        },
        "id": "MB5XgJxdczFi",
        "outputId": "cba0a91d-a4a4-41f2-8b78-3269cdf40600"
      },
      "execution_count": 6,
      "outputs": [
        {
          "output_type": "stream",
          "name": "stdout",
          "text": [
            "torch.Size([26005, 7]) torch.Size([26005])\n",
            "torch.Size([3290, 7]) torch.Size([3290])\n",
            "torch.Size([3219, 7]) torch.Size([3219])\n"
          ]
        }
      ]
    },
    {
      "cell_type": "code",
      "source": [
        "# the Chinese one\n",
        "block_size2 = 1 # take 1 character to predict the next one\n",
        "\n",
        "def build_dataset_cn(words):\n",
        "  X, Y = [], []\n",
        "  for w in words:\n",
        "\n",
        "    #print(w)\n",
        "    context = [0] * block_size2\n",
        "    for ch in w + '.':\n",
        "      ix2 = stoi2[ch]\n",
        "      X.append(context)\n",
        "      Y.append(ix2)\n",
        "      #print(''.join(itos[i] for i in context), '--->', itos[ix])\n",
        "      context = context[1:] + [ix2] # crop and append\n",
        "\n",
        "  X = torch.tensor(X)\n",
        "  Y = torch.tensor(Y)\n",
        "  print(X.shape, Y.shape)\n",
        "  return X, Y\n",
        "\n",
        "# prepare the data splits\n",
        "random.seed(40)\n",
        "random.shuffle( cncities)\n",
        "n1 = int(0.8*len( cncities))\n",
        "n2 = int(0.9*len( cncities))\n",
        "\n",
        "Xtr1, Ytr1 = build_dataset_cn( cncities[:n1])\n",
        "Xdev1, Ydev1 = build_dataset_cn( cncities[n1:n2])\n",
        "Xte1, Yte1 = build_dataset_cn( cncities[n2:])"
      ],
      "metadata": {
        "colab": {
          "base_uri": "https://localhost:8080/"
        },
        "id": "ZvFkcyP7db6R",
        "outputId": "5171bdfa-ba52-4e15-e9f0-ea8ebb643ef4"
      },
      "execution_count": 7,
      "outputs": [
        {
          "output_type": "stream",
          "name": "stdout",
          "text": [
            "torch.Size([7710, 1]) torch.Size([7710])\n",
            "torch.Size([960, 1]) torch.Size([960])\n",
            "torch.Size([965, 1]) torch.Size([965])\n"
          ]
        }
      ]
    },
    {
      "cell_type": "markdown",
      "source": [
        "#**Train the model**"
      ],
      "metadata": {
        "id": "3mB4mE_yb5fH"
      }
    },
    {
      "cell_type": "markdown",
      "source": [
        "**1. Set up parameters**"
      ],
      "metadata": {
        "id": "pfY5koG-ha-e"
      }
    },
    {
      "cell_type": "code",
      "source": [
        "# set up the parameters\n",
        "g = torch.Generator().manual_seed(2147483647) # for reproducibility\n",
        "C = torch.randn((31, 10), generator=g,requires_grad=True) # 31 is the max index\n",
        "W1 = torch.randn((70, 200), generator=g,requires_grad=True)\n",
        "b1 = torch.randn(200, generator=g,requires_grad=True)\n",
        "W2 = torch.randn((200, 31), generator=g,requires_grad=True)\n",
        "b2 = torch.randn(31, generator=g,requires_grad=True) # match W2's second dimension\n",
        "parameters = [C, W1, b1, W2, b2]\n",
        "sum(p.nelement() for p in parameters) # number of parameters in total"
      ],
      "metadata": {
        "id": "0Y8stySNhUU8",
        "colab": {
          "base_uri": "https://localhost:8080/"
        },
        "outputId": "81ae1de2-2078-4544-cdb7-fe2a1c28613a"
      },
      "execution_count": 8,
      "outputs": [
        {
          "output_type": "execute_result",
          "data": {
            "text/plain": [
              "20741"
            ]
          },
          "metadata": {},
          "execution_count": 8
        }
      ]
    },
    {
      "cell_type": "code",
      "source": [
        "# enable gradient computation\n",
        "for p in parameters:\n",
        "  p.requires_grad = True\n",
        "\n",
        "# set up learning rate\n",
        "lre = torch.linspace(-3, 0, 1000) # a tensor of 1000 points evenly spaced between -3 and 0\n",
        "lrs = 10**lre\n",
        "\n",
        "# initializw lists for tracking\n",
        "lri = []\n",
        "lossi = []\n",
        "stepi = []"
      ],
      "metadata": {
        "id": "coNBea1sc6tm"
      },
      "execution_count": 9,
      "outputs": []
    },
    {
      "cell_type": "markdown",
      "source": [
        "**2. Train the models**"
      ],
      "metadata": {
        "id": "TVdjAJU3hXVI"
      }
    },
    {
      "cell_type": "code",
      "source": [
        "for i in range(200000): # iterate 200,000 times\n",
        "\n",
        "  # minibatch construct\n",
        "  ix = torch.randint(0, Xtr.shape[0], (98,))\n",
        "\n",
        "  # forward pass\n",
        "  emb = C[Xtr[ix]]\n",
        "  h = torch.tanh(emb.view(-1, 70) @ W1 + b1)\n",
        "  logits = h @ W2 + b2\n",
        "  loss = F.cross_entropy(logits, Ytr[ix])\n",
        "  #print(loss.item())\n",
        "\n",
        "  # backward pass\n",
        "  for p in parameters:\n",
        "    p.grad = None\n",
        "  loss.backward()\n",
        "\n",
        "  # update\n",
        "  #lr = lrs[i]\n",
        "  lr = 0.1 if i < 100000 else 0.01\n",
        "  for p in parameters:\n",
        "    p.data += -lr * p.grad\n",
        "\n",
        "  # track stats\n",
        "  #lri.append(lre[i])\n",
        "  stepi.append(i)\n",
        "  lossi.append(loss.log10().item())\n",
        "\n",
        "#print(loss.item())"
      ],
      "metadata": {
        "id": "jiKD-PPOdClh"
      },
      "execution_count": 10,
      "outputs": []
    },
    {
      "cell_type": "markdown",
      "source": [
        "**Similar steps, but for chinese**"
      ],
      "metadata": {
        "id": "4oRhxJuLnfIT"
      }
    },
    {
      "cell_type": "code",
      "source": [
        "# set up the parameters\n",
        "g_cn = torch.Generator().manual_seed(2147483647) # for reproducibility\n",
        "C_cn = torch.randn((1213, 10), generator=g_cn)\n",
        "W1_cn = torch.randn((10, 200), generator=g_cn)\n",
        "b1_cn = torch.randn(200, generator=g_cn)\n",
        "W2_cn = torch.randn((200, 1213), generator=g_cn)\n",
        "b2_cn = torch.randn(1213, generator=g_cn)\n",
        "parameters_cn = [C_cn, W1_cn, b1_cn, W2_cn, b2_cn]\n",
        "sum(p.nelement() for p in parameters_cn) # number of parameters in total\n",
        "\n",
        "# enable gradient computation\n",
        "for p in parameters_cn:\n",
        "  p.requires_grad = True\n",
        "\n",
        "# set up learning rate\n",
        "lre_cn = torch.linspace(-3, 0, 1000) # a tensor of 1000 points evenly spaced between -3 and 0\n",
        "lrs_cn = 10**lre_cn\n",
        "\n",
        "# initializw lists for tracking\n",
        "lri_cn = []\n",
        "lossi_cn = []\n",
        "stepi_cn = []\n"
      ],
      "metadata": {
        "id": "VkB4bqzfVnrA"
      },
      "execution_count": 11,
      "outputs": []
    },
    {
      "cell_type": "code",
      "source": [
        "\n",
        "for i in range(200000):  # iterate 200,000 times\n",
        "    # minibatch construct\n",
        "    ix_cn = torch.randint(0, Xtr1.shape[0], (32,))\n",
        "\n",
        "    # forward pass\n",
        "    emb_cn = C_cn[Xtr1[ix_cn]]  # assuming Xtr1 is a list of indices\n",
        "    h_cn = torch.tanh(emb_cn.view(-1, 10) @ W1_cn + b1_cn)\n",
        "    logits_cn = h_cn @ W2_cn + b2_cn\n",
        "    loss_cn = F.cross_entropy(logits_cn, Ytr1[ix_cn])\n",
        "\n",
        "    # backward pass\n",
        "    loss_cn.backward()\n",
        "\n",
        "    # update\n",
        "    lr_cn = 0.1 if i < 100000 else 0.01\n",
        "    for p in parameters_cn:\n",
        "        if p.grad is not None:\n",
        "            p.data -= lr_cn * p.grad\n",
        "\n",
        "    # zero out gradients for the next iteration\n",
        "    for p in parameters_cn:\n",
        "        p.grad = None\n",
        "\n",
        "    # track stats\n",
        "    stepi_cn.append(i)\n",
        "    lossi_cn.append(loss_cn.log10().item())\n"
      ],
      "metadata": {
        "id": "YyyKOUVZkdNR"
      },
      "execution_count": 12,
      "outputs": []
    },
    {
      "cell_type": "markdown",
      "source": [
        "# **Evaluation**"
      ],
      "metadata": {
        "id": "oMZIeM4uVIOp"
      }
    },
    {
      "cell_type": "markdown",
      "source": [
        "**American cities**"
      ],
      "metadata": {
        "id": "qRCjO1ZIIzGH"
      }
    },
    {
      "cell_type": "code",
      "source": [
        "plt.ylim([-0.5, 1.5])  # Set the limits for y-axis\n",
        "plt.plot(stepi, lossi)\n",
        "plt.show()"
      ],
      "metadata": {
        "id": "ZBAYXZ_rdGIG",
        "colab": {
          "base_uri": "https://localhost:8080/",
          "height": 435
        },
        "outputId": "ea544e7e-5401-4d4d-a81b-c9a21ad81cee"
      },
      "execution_count": 13,
      "outputs": [
        {
          "output_type": "display_data",
          "data": {
            "text/plain": [
              "<Figure size 640x480 with 1 Axes>"
            ],
            "image/png": "[encoded data removed]"
          },
          "metadata": {}
        }
      ]
    },
    {
      "cell_type": "code",
      "source": [
        "# training loss\n",
        "emb = C[Xtr]\n",
        "h = torch.tanh(emb.view(-1, 70) @ W1 + b1)\n",
        "logits = h @ W2 + b2\n",
        "loss = F.cross_entropy(logits, Ytr)\n",
        "loss"
      ],
      "metadata": {
        "id": "ZlhYinNgdIVF",
        "colab": {
          "base_uri": "https://localhost:8080/"
        },
        "outputId": "57826171-2023-4ce9-92c1-5303f01789d4"
      },
      "execution_count": 14,
      "outputs": [
        {
          "output_type": "execute_result",
          "data": {
            "text/plain": [
              "tensor(1.7939, grad_fn=<NllLossBackward0>)"
            ]
          },
          "metadata": {},
          "execution_count": 14
        }
      ]
    },
    {
      "cell_type": "code",
      "source": [
        "# validation loss\n",
        "emb = C[Xdev]\n",
        "h = torch.tanh(emb.view(-1, 70) @ W1 + b1)\n",
        "logits = h @ W2 + b2\n",
        "loss = F.cross_entropy(logits, Ydev)\n",
        "loss"
      ],
      "metadata": {
        "id": "cJH3DDu4dLTM",
        "colab": {
          "base_uri": "https://localhost:8080/"
        },
        "outputId": "707e5de1-eb07-422d-ab80-e7847bd381ce"
      },
      "execution_count": 15,
      "outputs": [
        {
          "output_type": "execute_result",
          "data": {
            "text/plain": [
              "tensor(2.5235, grad_fn=<NllLossBackward0>)"
            ]
          },
          "metadata": {},
          "execution_count": 15
        }
      ]
    },
    {
      "cell_type": "code",
      "source": [
        "# test loss\n",
        "emb = C[Xte]\n",
        "h = torch.tanh(emb.view(-1, 70) @ W1 + b1)\n",
        "logits = h @ W2 + b2\n",
        "loss = F.cross_entropy(logits, Yte)\n",
        "loss"
      ],
      "metadata": {
        "id": "DwOgCg1vdNhe",
        "colab": {
          "base_uri": "https://localhost:8080/"
        },
        "outputId": "d9e1b1a8-f17b-4d42-dff6-356b969e9aba"
      },
      "execution_count": 16,
      "outputs": [
        {
          "output_type": "execute_result",
          "data": {
            "text/plain": [
              "tensor(2.4395, grad_fn=<NllLossBackward0>)"
            ]
          },
          "metadata": {},
          "execution_count": 16
        }
      ]
    },
    {
      "cell_type": "markdown",
      "source": [
        "**Chinese cities**"
      ],
      "metadata": {
        "id": "GeIZGM0zI36M"
      }
    },
    {
      "cell_type": "code",
      "source": [
        "plt.ylim([-0.5, 1.5])  # Set the limits for y-axis\n",
        "plt.plot(stepi_cn, lossi_cn)\n",
        "plt.show()"
      ],
      "metadata": {
        "id": "-MQAossJI6TC",
        "colab": {
          "base_uri": "https://localhost:8080/",
          "height": 435
        },
        "outputId": "adfa6470-49e9-4324-cef0-7e25c6a034ff"
      },
      "execution_count": 17,
      "outputs": [
        {
          "output_type": "display_data",
          "data": {
            "text/plain": [
              "<Figure size 640x480 with 1 Axes>"
            ],
            "image/png": "[encoded data removed]"
          },
          "metadata": {}
        }
      ]
    },
    {
      "cell_type": "code",
      "source": [
        "# training loss\n",
        "emb_cn = C_cn[Xtr1] # (32, 3, 2)\n",
        "h_cn = torch.tanh(emb_cn.view(-1, 10) @ W1_cn + b1_cn) # (32, 100)\n",
        "logits_cn = h_cn @ W2_cn + b2_cn # (32, 27)\n",
        "loss_cn = F.cross_entropy(logits_cn, Ytr1)\n",
        "loss_cn"
      ],
      "metadata": {
        "id": "-OznwbdXJEhd",
        "colab": {
          "base_uri": "https://localhost:8080/"
        },
        "outputId": "6aaf22a4-33a4-43bc-eab4-0ac9af9709c7"
      },
      "execution_count": 18,
      "outputs": [
        {
          "output_type": "execute_result",
          "data": {
            "text/plain": [
              "tensor(2.8465, grad_fn=<NllLossBackward0>)"
            ]
          },
          "metadata": {},
          "execution_count": 18
        }
      ]
    },
    {
      "cell_type": "code",
      "source": [
        "# validation loss\n",
        "emb_cn = C_cn[Xdev1] # (32, 3, 2)\n",
        "h_cn = torch.tanh(emb_cn.view(-1, 10) @ W1_cn + b1_cn) # (32, 100)\n",
        "logits_cn = h_cn @ W2_cn + b2_cn # (32, 27)\n",
        "loss_cn = F.cross_entropy(logits_cn, Ydev1)\n",
        "loss_cn"
      ],
      "metadata": {
        "id": "EiKHA6poJJEn",
        "colab": {
          "base_uri": "https://localhost:8080/"
        },
        "outputId": "6ac1fe05-2c66-4edf-f6cb-9a0bd1d21a69"
      },
      "execution_count": 19,
      "outputs": [
        {
          "output_type": "execute_result",
          "data": {
            "text/plain": [
              "tensor(10.2262, grad_fn=<NllLossBackward0>)"
            ]
          },
          "metadata": {},
          "execution_count": 19
        }
      ]
    },
    {
      "cell_type": "code",
      "source": [
        "# test loss\n",
        "emb_cn = C_cn[Xte1] # (32, 3, 2)\n",
        "h_cn = torch.tanh(emb_cn.view(-1, 10) @ W1_cn + b1_cn) # (32, 100)\n",
        "logits_cn = h_cn @ W2_cn + b2_cn # (32, 27)\n",
        "loss_cn = F.cross_entropy(logits_cn, Yte1)\n",
        "loss_cn"
      ],
      "metadata": {
        "id": "_EckAXl9JKuj",
        "colab": {
          "base_uri": "https://localhost:8080/"
        },
        "outputId": "7ac06712-2daa-4bcb-ae92-36b822d55415"
      },
      "execution_count": 20,
      "outputs": [
        {
          "output_type": "execute_result",
          "data": {
            "text/plain": [
              "tensor(9.5669, grad_fn=<NllLossBackward0>)"
            ]
          },
          "metadata": {},
          "execution_count": 20
        }
      ]
    },
    {
      "cell_type": "markdown",
      "source": [
        "# **Sample analysis**"
      ],
      "metadata": {
        "id": "vk4JEO53f-8b"
      }
    },
    {
      "cell_type": "markdown",
      "source": [
        "**Generate American city names**"
      ],
      "metadata": {
        "id": "8Wb6ql_xgD4y"
      }
    },
    {
      "cell_type": "code",
      "source": [
        "# sample from the model\n",
        "g = torch.Generator().manual_seed(2147483647 + 10)\n",
        "\n",
        "for _ in range(100):\n",
        "\n",
        "    out = []\n",
        "    context = [0] * block_size # initialize with all ...\n",
        "    while True:\n",
        "      emb = C[torch.tensor([context])] # (1,block_size,d)\n",
        "      h = torch.tanh(emb.view(-1, 70) @ W1 + b1)\n",
        "      logits = h @ W2 + b2\n",
        "      probs = F.softmax(logits, dim=1)\n",
        "      ix = torch.multinomial(probs, num_samples=1, generator=g).item()\n",
        "      context = context[1:] + [ix]\n",
        "      out.append(ix)\n",
        "      if ix == 0:\n",
        "        break\n",
        "\n",
        "    print(''.join(itos1[i] for i in out))"
      ],
      "metadata": {
        "id": "TQUMmgRrdRIA",
        "colab": {
          "base_uri": "https://localhost:8080/"
        },
        "outputId": "b2c4a180-786f-428a-a08a-8087aba9bf2b"
      },
      "execution_count": 22,
      "outputs": [
        {
          "output_type": "stream",
          "name": "stdout",
          "text": [
            "andr city.\n",
            "wouans.\n",
            "lundilsville.\n",
            "farcerwo.\n",
            "ytann cpring.\n",
            "sumlle.\n",
            "alawyr park.\n",
            "malpvills.\n",
            "nowe.\n",
            "oventville.\n",
            "farney.\n",
            "fasaguras.\n",
            "plakburg.\n",
            "sursentunsta.\n",
            "adcun voighticlt.\n",
            "dustor.\n",
            "uunomo.\n",
            "vandham.\n",
            "north pram.\n",
            "arkan.\n",
            "linsenburg.\n",
            "akadcolae.\n",
            "forsond.\n",
            "sadinan.\n",
            "reo cete.\n",
            "sallos hilly.\n",
            "palmor.\n",
            "marcoen city.\n",
            "cortereo.\n",
            "rou pass.\n",
            "galliige.\n",
            "torsond.\n",
            "yomeage.\n",
            "gerrirgton.\n",
            "estarele.\n",
            "kouma.\n",
            "fortlton.\n",
            "ewpenlel weevelork.\n",
            "neveshond.\n",
            "greelen.\n",
            "colwy pard lendor.\n",
            "wisatan.\n",
            "belle.\n",
            "feyswie woithe.\n",
            "south ranz.\n",
            "antoeros.\n",
            "leedvala.\n",
            "glekotville.\n",
            "soulle.\n",
            "plaxstoc.\n",
            "manold gleveer.\n",
            "beraota.\n",
            "couto hao.\n",
            "plameen.\n",
            "parkonto.\n",
            "manin.\n",
            "wosshowo wast.\n",
            "prowddelesville.\n",
            "valleyy.\n",
            "colfer.\n",
            "tornase.\n",
            "ettoboro.\n",
            "touaktoa.\n",
            "mangvieg.\n",
            "grenmorisi.\n",
            "rigtay cerdor.\n",
            "shorele.\n",
            "sumaay.\n",
            "tiou.\n",
            "wesdeo.\n",
            "tartlamville.\n",
            "corrmalni.\n",
            "bolmena.\n",
            "ulgkoris.\n",
            "youan.\n",
            "lea untap.\n",
            "sdilrlhontore.\n",
            "wanshan heights.\n",
            "badnia.\n",
            "brontving.\n",
            "minorch.\n",
            "cothor.\n",
            "newer ciry.\n",
            "jac grinde.\n",
            "blaagbi.\n",
            "ccpeter.\n",
            "beagrade.\n",
            "malla faven.\n",
            "maucens.\n",
            "meilen.\n",
            "cor.\n",
            "anrriss vidjoies.\n",
            "yd.\n",
            "ild ara.\n",
            "zerep.\n",
            "osakan fills.\n",
            "kanseville.\n",
            "glodruc hillitte.\n",
            "hylwne.\n",
            "eamonye.\n"
          ]
        }
      ]
    },
    {
      "cell_type": "markdown",
      "source": [
        "**Generate Chinese city names**"
      ],
      "metadata": {
        "id": "YvPDYAc1gH3t"
      }
    },
    {
      "cell_type": "code",
      "source": [
        "# sample from the model\n",
        "g_cn = torch.Generator().manual_seed(2147483647 + 10)\n",
        "\n",
        "for _ in range(100):\n",
        "\n",
        "    out1 = []\n",
        "    context = [0] * block_size2 # initialize with all ...\n",
        "    while True:\n",
        "      emb_cn = C_cn[torch.tensor([context])] # (1,block_size,d)\n",
        "      h_cn = torch.tanh(emb_cn.view(-1, 10) @ W1_cn + b1_cn)\n",
        "      logits_cn = h_cn @ W2_cn + b2_cn\n",
        "      probs_cn = F.softmax(logits_cn, dim=1)\n",
        "      ix_cn = torch.multinomial(probs_cn, num_samples=1, generator=g_cn).item()\n",
        "      context = context[1:] + [ix_cn]\n",
        "      out1.append(ix_cn)\n",
        "      if ix_cn == 0:\n",
        "        break\n",
        "\n",
        "    print(''.join(itos2[i] for i in out1))"
      ],
      "metadata": {
        "id": "xgYl1V61gnrr",
        "colab": {
          "base_uri": "https://localhost:8080/"
        },
        "outputId": "84c7651e-bc37-4253-f24c-d0d7b411ce7a"
      },
      "execution_count": 23,
      "outputs": [
        {
          "output_type": "stream",
          "name": "stdout",
          "text": [
            "水.\n",
            "鸡东兰溪.\n",
            "乌旗.\n",
            "越秀.\n",
            "三水.\n",
            "包头.\n",
            "济.\n",
            "白玉山.\n",
            "通海淀.\n",
            "江海口.\n",
            "桦南江.\n",
            "海.\n",
            "索县.\n",
            "崇左旗.\n",
            "榆社.\n",
            "新区.\n",
            "汕头沟.\n",
            "溆浦.\n",
            "曲.\n",
            "三亚东营山.\n",
            "江北.\n",
            "色达孜.\n",
            "镇.\n",
            "宁.\n",
            "天全州.\n",
            "龙.\n",
            "凤.\n",
            "铁力.\n",
            "奉贤.\n",
            "清.\n",
            "青白水磨沟.\n",
            "柳北京.\n",
            "金川.\n",
            "黔东海.\n",
            "武义.\n",
            "赞皇姑.\n",
            "上街.\n",
            "红原州.\n",
            "崇明.\n",
            "南.\n",
            "龙泉驿.\n",
            "湘.\n",
            "三元.\n",
            "定海.\n",
            "安.\n",
            "高陵.\n",
            "黎川.\n",
            "商河.\n",
            "荔湾里.\n",
            "兰屯.\n",
            "乌旗.\n",
            "雁山.\n",
            "珙县.\n",
            "灵石泉.\n",
            "修水江.\n",
            "博.\n",
            "薛城.\n",
            "科右后旗.\n",
            "阳.\n",
            "武江.\n",
            "柳南阳.\n",
            "青河.\n",
            "天桥.\n",
            "迭部.\n",
            "秀屿.\n",
            "濮丰.\n",
            "九原.\n",
            "宣汉滨江.\n",
            "乌兰察右旗.\n",
            "宝.\n",
            "新.\n",
            "天峨山.\n",
            "铁岭.\n",
            "习水.\n",
            "安.\n",
            "榆林右前郭勒.\n",
            "林西.\n",
            "武进贤.\n",
            "渝中.\n",
            "汝城.\n",
            "南.\n",
            "歙县.\n",
            "吕梁溪.\n",
            "克.\n",
            "德.\n",
            "延川.\n",
            "长乐.\n",
            "常德镇.\n",
            "铜鼓楼.\n",
            "翠峦.\n",
            "兴义县.\n",
            "铁山.\n",
            "义.\n",
            "泸水.\n",
            "禹会.\n",
            "乡.\n",
            "安.\n",
            "阿图什库.\n",
            "桐梓.\n",
            "阿里坤.\n"
          ]
        }
      ]
    }
  ]
}